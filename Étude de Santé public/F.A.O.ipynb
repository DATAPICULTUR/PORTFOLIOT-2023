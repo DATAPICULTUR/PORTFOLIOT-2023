{
 "cells": [
  {
   "cell_type": "markdown",
   "metadata": {},
   "source": [
    "## Projet 4. Réalisez une étude de santé publique avec R ou Python"
   ]
  },
  {
   "cell_type": "markdown",
   "metadata": {},
   "source": [
    "# Food and Agriculture Organization of the United Nation"
   ]
  },
  {
   "cell_type": "markdown",
   "metadata": {},
   "source": [
    "### 1) Préparation des données"
   ]
  },
  {
   "cell_type": "code",
   "execution_count": 1,
   "metadata": {},
   "outputs": [],
   "source": [
    "#importation des data sets (library panda)\n",
    "import pandas as pd\n",
    "import matplotlib.pyplot as plt\n",
    "import numpy as np\n",
    "import seaborn as sns \n",
    "import matplotlib.ticker as ticker"
   ]
  },
  {
   "cell_type": "code",
   "execution_count": 2,
   "metadata": {},
   "outputs": [],
   "source": [
    "#Gestion des options d'affichage \n",
    "pd.set_option('display.max_row',1000)\n",
    "pd.set_option('display.max_columns',30)"
   ]
  },
  {
   "cell_type": "code",
   "execution_count": 3,
   "metadata": {},
   "outputs": [],
   "source": [
    "#importation des jeux de données\n",
    "dfaa = pd.read_csv(\"aide_alimentaire.csv\")\n",
    "dfda = pd.read_csv(\"dispo_alimentaire.csv\")\n",
    "dfp = pd.read_csv(\"population.csv\")\n",
    "dfsn = pd.read_csv(\"sous_nutrition.csv\")"
   ]
  },
  {
   "cell_type": "code",
   "execution_count": 4,
   "metadata": {},
   "outputs": [],
   "source": [
    "# indexation des dataframe\n",
    "aide_alimentaire_filename='aide_alimentaire.csv'\n",
    "dispo_alimentaire_filename='dispo_alimentaire.csv'\n",
    "population_filename='population.csv'\n",
    "sous_nutrition_filename='sous_nutrition.csv'\n",
    "continent_filename='continent.csv'\n",
    "aide_alimentaire=pd.read_csv(aide_alimentaire_filename, sep=',')\n",
    "dispo_alimentaire=pd.read_csv(dispo_alimentaire_filename, sep=',')\n",
    "population=pd.read_csv(population_filename, sep=',',)\n",
    "sous_nutrition=pd.read_csv(sous_nutrition_filename, sep=',')\n",
    "continent=pd.read_csv(continent_filename, sep=',')"
   ]
  },
  {
   "cell_type": "markdown",
   "metadata": {},
   "source": [
    "# Nettoyage des bases de données."
   ]
  },
  {
   "cell_type": "markdown",
   "metadata": {},
   "source": [
    "1)  Remplacer les NaN par 0 dans le tableau dispo_alimentaire  (Bolléenne)"
   ]
  },
  {
   "cell_type": "code",
   "execution_count": 5,
   "metadata": {},
   "outputs": [],
   "source": [
    "dispo_alimentaire.fillna(0, inplace=True)"
   ]
  },
  {
   "cell_type": "markdown",
   "metadata": {},
   "source": [
    "2) Supprimer les pays sans les personnes en sous_nutrition du tableau sous_nutrition"
   ]
  },
  {
   "cell_type": "code",
   "execution_count": 6,
   "metadata": {},
   "outputs": [],
   "source": [
    "sous_nutrition.dropna(inplace=True)"
   ]
  },
  {
   "cell_type": "markdown",
   "metadata": {},
   "source": [
    "3) Remplacer les intervalles d’années par les année correspondantes"
   ]
  },
  {
   "cell_type": "code",
   "execution_count": 7,
   "metadata": {},
   "outputs": [],
   "source": [
    "sous_nutrition.replace(to_replace=['2012-2014', '2013-2015', '2014-2016', '2015-2017', '2016-2018', '2017-2019'], \n",
    "                       value =[2013, 2014, 2015, 2016, 2017, 2018], inplace=True)"
   ]
  },
  {
   "cell_type": "code",
   "execution_count": 8,
   "metadata": {},
   "outputs": [],
   "source": [
    "#gestion de l'affichage\n",
    "pd.set_option('display.max_row',1000)\n",
    "pd.set_option('display.max_columns',30)"
   ]
  },
  {
   "cell_type": "markdown",
   "metadata": {},
   "source": [
    "4) Suprimer les valeurs ambigues du tableau sous_nutrition "
   ]
  },
  {
   "cell_type": "code",
   "execution_count": 9,
   "metadata": {},
   "outputs": [
    {
     "data": {
      "text/html": [
       "<div>\n",
       "<style scoped>\n",
       "    .dataframe tbody tr th:only-of-type {\n",
       "        vertical-align: middle;\n",
       "    }\n",
       "\n",
       "    .dataframe tbody tr th {\n",
       "        vertical-align: top;\n",
       "    }\n",
       "\n",
       "    .dataframe thead th {\n",
       "        text-align: right;\n",
       "    }\n",
       "</style>\n",
       "<table border=\"1\" class=\"dataframe\">\n",
       "  <thead>\n",
       "    <tr style=\"text-align: right;\">\n",
       "      <th></th>\n",
       "      <th>Zone</th>\n",
       "      <th>Année</th>\n",
       "      <th>Valeur</th>\n",
       "    </tr>\n",
       "  </thead>\n",
       "  <tbody>\n",
       "    <tr>\n",
       "      <th>64</th>\n",
       "      <td>Arménie</td>\n",
       "      <td>2017</td>\n",
       "      <td>&lt;0.1</td>\n",
       "    </tr>\n",
       "    <tr>\n",
       "      <th>106</th>\n",
       "      <td>Barbade</td>\n",
       "      <td>2017</td>\n",
       "      <td>&lt;0.1</td>\n",
       "    </tr>\n",
       "    <tr>\n",
       "      <th>124</th>\n",
       "      <td>Belize</td>\n",
       "      <td>2017</td>\n",
       "      <td>&lt;0.1</td>\n",
       "    </tr>\n",
       "    <tr>\n",
       "      <th>196</th>\n",
       "      <td>Cabo Verde</td>\n",
       "      <td>2017</td>\n",
       "      <td>&lt;0.1</td>\n",
       "    </tr>\n",
       "    <tr>\n",
       "      <th>232</th>\n",
       "      <td>Chine - RAS de Macao</td>\n",
       "      <td>2017</td>\n",
       "      <td>&lt;0.1</td>\n",
       "    </tr>\n",
       "    <tr>\n",
       "      <th>250</th>\n",
       "      <td>Chypre</td>\n",
       "      <td>2017</td>\n",
       "      <td>&lt;0.1</td>\n",
       "    </tr>\n",
       "    <tr>\n",
       "      <th>310</th>\n",
       "      <td>Dominique</td>\n",
       "      <td>2017</td>\n",
       "      <td>&lt;0.1</td>\n",
       "    </tr>\n",
       "    <tr>\n",
       "      <th>382</th>\n",
       "      <td>Fidji</td>\n",
       "      <td>2017</td>\n",
       "      <td>&lt;0.1</td>\n",
       "    </tr>\n",
       "    <tr>\n",
       "      <th>466</th>\n",
       "      <td>Guyana</td>\n",
       "      <td>2017</td>\n",
       "      <td>&lt;0.1</td>\n",
       "    </tr>\n",
       "    <tr>\n",
       "      <th>502</th>\n",
       "      <td>Îles Salomon</td>\n",
       "      <td>2017</td>\n",
       "      <td>&lt;0.1</td>\n",
       "    </tr>\n",
       "    <tr>\n",
       "      <th>592</th>\n",
       "      <td>Kiribati</td>\n",
       "      <td>2017</td>\n",
       "      <td>&lt;0.1</td>\n",
       "    </tr>\n",
       "    <tr>\n",
       "      <th>646</th>\n",
       "      <td>Macédoine du Nord</td>\n",
       "      <td>2017</td>\n",
       "      <td>&lt;0.1</td>\n",
       "    </tr>\n",
       "    <tr>\n",
       "      <th>694</th>\n",
       "      <td>Maurice</td>\n",
       "      <td>2017</td>\n",
       "      <td>&lt;0.1</td>\n",
       "    </tr>\n",
       "    <tr>\n",
       "      <th>790</th>\n",
       "      <td>Nouvelle-Calédonie</td>\n",
       "      <td>2017</td>\n",
       "      <td>&lt;0.1</td>\n",
       "    </tr>\n",
       "    <tr>\n",
       "      <th>880</th>\n",
       "      <td>Polynésie française</td>\n",
       "      <td>2017</td>\n",
       "      <td>&lt;0.1</td>\n",
       "    </tr>\n",
       "    <tr>\n",
       "      <th>988</th>\n",
       "      <td>Saint-Vincent-et-les Grenadines</td>\n",
       "      <td>2017</td>\n",
       "      <td>&lt;0.1</td>\n",
       "    </tr>\n",
       "    <tr>\n",
       "      <th>1006</th>\n",
       "      <td>Sao Tomé-et-Principe</td>\n",
       "      <td>2017</td>\n",
       "      <td>&lt;0.1</td>\n",
       "    </tr>\n",
       "    <tr>\n",
       "      <th>1090</th>\n",
       "      <td>Suriname</td>\n",
       "      <td>2017</td>\n",
       "      <td>&lt;0.1</td>\n",
       "    </tr>\n",
       "    <tr>\n",
       "      <th>1144</th>\n",
       "      <td>Trinité-et-Tobago</td>\n",
       "      <td>2017</td>\n",
       "      <td>&lt;0.1</td>\n",
       "    </tr>\n",
       "    <tr>\n",
       "      <th>1186</th>\n",
       "      <td>Vanuatu</td>\n",
       "      <td>2017</td>\n",
       "      <td>&lt;0.1</td>\n",
       "    </tr>\n",
       "  </tbody>\n",
       "</table>\n",
       "</div>"
      ],
      "text/plain": [
       "                                 Zone  Année Valeur\n",
       "64                            Arménie   2017   <0.1\n",
       "106                           Barbade   2017   <0.1\n",
       "124                            Belize   2017   <0.1\n",
       "196                        Cabo Verde   2017   <0.1\n",
       "232              Chine - RAS de Macao   2017   <0.1\n",
       "250                            Chypre   2017   <0.1\n",
       "310                         Dominique   2017   <0.1\n",
       "382                             Fidji   2017   <0.1\n",
       "466                            Guyana   2017   <0.1\n",
       "502                      Îles Salomon   2017   <0.1\n",
       "592                          Kiribati   2017   <0.1\n",
       "646                 Macédoine du Nord   2017   <0.1\n",
       "694                           Maurice   2017   <0.1\n",
       "790                Nouvelle-Calédonie   2017   <0.1\n",
       "880               Polynésie française   2017   <0.1\n",
       "988   Saint-Vincent-et-les Grenadines   2017   <0.1\n",
       "1006             Sao Tomé-et-Principe   2017   <0.1\n",
       "1090                         Suriname   2017   <0.1\n",
       "1144                Trinité-et-Tobago   2017   <0.1\n",
       "1186                          Vanuatu   2017   <0.1"
      ]
     },
     "execution_count": 9,
     "metadata": {},
     "output_type": "execute_result"
    }
   ],
   "source": [
    "sous_nutrition[(sous_nutrition['Valeur'] =='<0.1') & (sous_nutrition['Année'] ==2017)]"
   ]
  },
  {
   "cell_type": "markdown",
   "metadata": {},
   "source": [
    "5) Convertir en valeur numérique les valeurs de type 'objet'"
   ]
  },
  {
   "cell_type": "code",
   "execution_count": 10,
   "metadata": {},
   "outputs": [],
   "source": [
    "indexNames = sous_nutrition[sous_nutrition['Valeur'] =='<0.1'].index \n",
    "sous_nutrition.drop(indexNames, inplace=True)\n",
    "sous_nutrition['Valeur']=sous_nutrition['Valeur'].astype(float) "
   ]
  },
  {
   "cell_type": "markdown",
   "metadata": {},
   "source": [
    "Les valeurs '<0.1' sont non signifiantes car leurs valeurs trop approximatives, de  0 à  100 000. \n",
    "On note environ 20 pays avec moins de 100 000 personnes en sous_nutrition correspondent à  3,7% des personnes en sous-nutrition au niveau mondiale. Pour continuer l'exploration de ces données il est donc nescessaire d'isoler ces données pour traiter la base de donnée dans son  entiereté\n"
   ]
  },
  {
   "cell_type": "markdown",
   "metadata": {},
   "source": [
    " 6) Converter le nombre des personnes en sous-nutrition en milliers d’habitants"
   ]
  },
  {
   "cell_type": "code",
   "execution_count": 11,
   "metadata": {},
   "outputs": [],
   "source": [
    "sous_nutrition['Valeur']*=1000"
   ]
  },
  {
   "cell_type": "markdown",
   "metadata": {},
   "source": [
    "7) Supprimer les colonnes du tableau dispo_alimentaire où l'alimentation humaine est negative ¶\n"
   ]
  },
  {
   "cell_type": "code",
   "execution_count": 12,
   "metadata": {},
   "outputs": [],
   "source": [
    "dispo_alimentaire.drop(dispo_alimentaire[dispo_alimentaire['Nourriture'] <0].index, inplace=True)\n",
    "dispo_alimentaire.drop(dispo_alimentaire[dispo_alimentaire['Disponibilité intérieure'] <0].index, inplace=True)"
   ]
  },
  {
   "cell_type": "markdown",
   "metadata": {},
   "source": [
    "8) Renommer Royaume-Uni et Tchéquie "
   ]
  },
  {
   "cell_type": "code",
   "execution_count": 13,
   "metadata": {},
   "outputs": [],
   "source": [
    "dispo_alimentaire.loc[dispo_alimentaire['Zone']=='Royaume-Uni', 'Zone']='Royaume-Uni de Grande-Bretagne et d\\'Irlande du Nord'\n",
    "dispo_alimentaire.loc[dispo_alimentaire['Zone']=='Tchéquie (la)', 'Zone']='Tchéquie'"
   ]
  },
  {
   "cell_type": "markdown",
   "metadata": {},
   "source": [
    "# Mission 1. Mission de Marc\n"
   ]
  },
  {
   "cell_type": "markdown",
   "metadata": {},
   "source": [
    "### Question n°1 :  Calculer la proportion de personnes en état de sous-nutrition (2017)"
   ]
  },
  {
   "cell_type": "code",
   "execution_count": 14,
   "metadata": {},
   "outputs": [
    {
     "name": "stdout",
     "output_type": "stream",
     "text": [
      "La proportion de personnes en état de sous-nutrition en 2017 est 7.10%.\n",
      "Le nombre de personnes en état de sous-nutrition en 2017 est 535.7 millions d’habitants.\n"
     ]
    }
   ],
   "source": [
    "sous_nutrition_2017=sous_nutrition[sous_nutrition['Année']==2017].drop(columns='Année')\n",
    "population_2017=population[population['Année']==2017].drop(columns='Année')\n",
    "print('La proportion de personnes en état de sous-nutrition en 2017 est %.2f' % \n",
    "    (sum(sous_nutrition_2017['Valeur'])*100/sum(population_2017['Valeur'])), '%.', sep='')\n",
    "print('Le nombre de personnes en état de sous-nutrition en 2017 est', \n",
    "    sum(sous_nutrition_2017['Valeur']/1000), 'millions d’habitants.')"
   ]
  },
  {
   "cell_type": "markdown",
   "metadata": {},
   "source": [
    "### Question n°2 : La disponibilité alimentaire mondiale (2013)"
   ]
  },
  {
   "cell_type": "markdown",
   "metadata": {},
   "source": [
    "Besoins estimés pour une alimentation saine : 2 300 kcal/hab./jour, en veillant à ce que 12% de l’énergie provienne de protéines (69 g/hab./jour) \n",
    "(FAO)"
   ]
  },
  {
   "cell_type": "code",
   "execution_count": 15,
   "metadata": {},
   "outputs": [
    {
     "name": "stdout",
     "output_type": "stream",
     "text": [
      "La disponibilité alimentaire mondiale en 2013 pourrait nourrir 8827300528 personnes.\n"
     ]
    }
   ],
   "source": [
    "# on prend le minimum de deux valeurs : \n",
    "#le nombre de personnes que on peut nourrir par rapport à la disponibilité en kcal, \n",
    "#par rapport à la disponibilité de protéines.\n",
    "\n",
    "population_2013=population[population['Année']==2013].drop(columns='Année')\n",
    "nombre_kcal=pd.merge(dispo_alimentaire, population_2013, how='left', on='Zone')\n",
    "nombre_kcal['Disponibilité alimentaire (Kcal/jour)']=nombre_kcal['Valeur']*1000*nombre_kcal['Disponibilité alimentaire (Kcal/personne/jour)']\n",
    "nombre_kcal['Disponibilité de protéines en quantité (g/jour)']=nombre_kcal['Valeur']*1000*nombre_kcal['Disponibilité de protéines en quantité (g/personne/jour)']\n",
    "print('La disponibilité alimentaire mondiale en 2013 pourrait nourrir %.0f'\n",
    "      % min((sum(nombre_kcal['Disponibilité de protéines en quantité (g/jour)'])/6.9), (sum(nombre_kcal['Disponibilité alimentaire (Kcal/jour)'])/2300)), ' personnes.', sep='')\n"
   ]
  },
  {
   "cell_type": "markdown",
   "metadata": {},
   "source": [
    "### Question 3) La disponibilité alimentaire mondiale des produits végétaux (2013)"
   ]
  },
  {
   "cell_type": "code",
   "execution_count": 16,
   "metadata": {},
   "outputs": [
    {
     "name": "stdout",
     "output_type": "stream",
     "text": [
      "La disponibilité alimentaire mondiale des produits végétaux en 2013 pourrait nourrir 7257695246 personnes.\n"
     ]
    }
   ],
   "source": [
    "masque_veg=nombre_kcal['Origine']=='vegetale'\n",
    "masque_not_null=nombre_kcal['Nourriture'] !=0\n",
    "# on prend le minimum de deux valeurs : \n",
    "# le nombre de personnes que on peut nourrir par rapport à la disponibilité en kcal \n",
    "# par rapport à la disponibilité de protéines\n",
    "print('La disponibilité alimentaire mondiale des produits végétaux en 2013 pourrait nourrir %.0f' % min(\n",
    "    sum(nombre_kcal[masque_veg]['Disponibilité de protéines en quantité (g/jour)'])/6.9, \n",
    "    sum(nombre_kcal[masque_veg]['Disponibilité alimentaire (Kcal/jour)'])/2300), ' personnes.', sep='')"
   ]
  },
  {
   "cell_type": "markdown",
   "metadata": {},
   "source": [
    "### 4) L'utilisation de la disponibilité intérieure (2013) "
   ]
  },
  {
   "cell_type": "code",
   "execution_count": 17,
   "metadata": {},
   "outputs": [
    {
     "name": "stdout",
     "output_type": "stream",
     "text": [
      "Disponibilité intérieure est 9854329.0 milliers de tonnes.\n",
      "Disponibilité intérieure (utilisations) est 9857964.0 milliers de tonnes.\n",
      "Disponibilité intérieure (moyens d’acquisition) est 9854512.0 milliers de tonnes.\n"
     ]
    }
   ],
   "source": [
    "# on compare les valeurs de la disponibilité intérieure calculées de trois manières différentes\n",
    "print('Disponibilité intérieure est', sum(dispo_alimentaire['Disponibilité intérieure']), 'milliers de tonnes.')\n",
    "dispo_inter_tot=sum(dispo_alimentaire['Aliments pour animaux'])+sum(dispo_alimentaire['Autres Utilisations'])+sum(dispo_alimentaire['Nourriture'])+sum(dispo_alimentaire['Pertes'])+sum(dispo_alimentaire['Semences'])+sum(dispo_alimentaire['Traitement'])\n",
    "print('Disponibilité intérieure (utilisations) est', dispo_inter_tot, 'milliers de tonnes.')\n",
    "print('Disponibilité intérieure (moyens d’acquisition) est', (sum(dispo_alimentaire['Production'])-\n",
    "      sum(dispo_alimentaire['Exportations - Quantité'])+\n",
    "      sum(dispo_alimentaire['Importations - Quantité'])+\n",
    "      sum(dispo_alimentaire['Variation de stock'])), 'milliers de tonnes.')"
   ]
  },
  {
   "cell_type": "code",
   "execution_count": 18,
   "metadata": {},
   "outputs": [],
   "source": [
    "# utiliser la Disponibilité intérieure (utilisations)\n",
    "# on crée un tableau avec les répartitions des utilisations de la disponibilité alimentaire (les sommes et les proportions)\n",
    "dispo_inter=pd.DataFrame(data=[[sum(dispo_alimentaire['Aliments pour animaux']), sum(dispo_alimentaire['Aliments pour animaux'])/dispo_inter_tot],\n",
    "                               [sum(dispo_alimentaire['Autres Utilisations']), sum(dispo_alimentaire['Autres Utilisations'])/dispo_inter_tot],\n",
    "                               [sum(dispo_alimentaire['Nourriture']), sum(dispo_alimentaire['Nourriture'])/dispo_inter_tot],\n",
    "                               [sum(dispo_alimentaire['Pertes']), sum(dispo_alimentaire['Pertes'])/dispo_inter_tot],\n",
    "                               [sum(dispo_alimentaire['Semences']), sum(dispo_alimentaire['Semences'])/dispo_inter_tot],\n",
    "                               [sum(dispo_alimentaire['Traitement']), sum(dispo_alimentaire['Traitement'])/dispo_inter_tot],\n",
    "                               [dispo_inter_tot, 1]],\n",
    "                         index=['Aliments pour animaux', 'Autres Utilisations', 'Nourriture', 'Pertes', 'Semences', 'Traitement', 'Total'], \n",
    "                         columns=['Utilisation de la disponibilité intérieure', 'Proportion'])"
   ]
  },
  {
   "cell_type": "code",
   "execution_count": 19,
   "metadata": {},
   "outputs": [
    {
     "data": {
      "text/html": [
       "<style  type=\"text/css\" >\n",
       "</style><table id=\"T_ef48972a_3722_11ec_a0b6_10ddb1e0a5bc\" ><thead>    <tr>        <th class=\"blank level0\" ></th>        <th class=\"col_heading level0 col0\" >Utilisation de la disponibilité intérieure</th>        <th class=\"col_heading level0 col1\" >Proportion</th>    </tr></thead><tbody>\n",
       "                <tr>\n",
       "                        <th id=\"T_ef48972a_3722_11ec_a0b6_10ddb1e0a5bclevel0_row0\" class=\"row_heading level0 row0\" >Semences</th>\n",
       "                        <td id=\"T_ef48972a_3722_11ec_a0b6_10ddb1e0a5bcrow0_col0\" class=\"data row0 col0\" >154661</td>\n",
       "                        <td id=\"T_ef48972a_3722_11ec_a0b6_10ddb1e0a5bcrow0_col1\" class=\"data row0 col1\" >1.57%</td>\n",
       "            </tr>\n",
       "            <tr>\n",
       "                        <th id=\"T_ef48972a_3722_11ec_a0b6_10ddb1e0a5bclevel0_row1\" class=\"row_heading level0 row1\" >Pertes</th>\n",
       "                        <td id=\"T_ef48972a_3722_11ec_a0b6_10ddb1e0a5bcrow1_col0\" class=\"data row1 col0\" >453675</td>\n",
       "                        <td id=\"T_ef48972a_3722_11ec_a0b6_10ddb1e0a5bcrow1_col1\" class=\"data row1 col1\" >4.60%</td>\n",
       "            </tr>\n",
       "            <tr>\n",
       "                        <th id=\"T_ef48972a_3722_11ec_a0b6_10ddb1e0a5bclevel0_row2\" class=\"row_heading level0 row2\" >Autres Utilisations</th>\n",
       "                        <td id=\"T_ef48972a_3722_11ec_a0b6_10ddb1e0a5bcrow2_col0\" class=\"data row2 col0\" >864950</td>\n",
       "                        <td id=\"T_ef48972a_3722_11ec_a0b6_10ddb1e0a5bcrow2_col1\" class=\"data row2 col1\" >8.77%</td>\n",
       "            </tr>\n",
       "            <tr>\n",
       "                        <th id=\"T_ef48972a_3722_11ec_a0b6_10ddb1e0a5bclevel0_row3\" class=\"row_heading level0 row3\" >Aliments pour animaux</th>\n",
       "                        <td id=\"T_ef48972a_3722_11ec_a0b6_10ddb1e0a5bcrow3_col0\" class=\"data row3 col0\" >1304176</td>\n",
       "                        <td id=\"T_ef48972a_3722_11ec_a0b6_10ddb1e0a5bcrow3_col1\" class=\"data row3 col1\" >13.23%</td>\n",
       "            </tr>\n",
       "            <tr>\n",
       "                        <th id=\"T_ef48972a_3722_11ec_a0b6_10ddb1e0a5bclevel0_row4\" class=\"row_heading level0 row4\" >Traitement</th>\n",
       "                        <td id=\"T_ef48972a_3722_11ec_a0b6_10ddb1e0a5bcrow4_col0\" class=\"data row4 col0\" >2204192</td>\n",
       "                        <td id=\"T_ef48972a_3722_11ec_a0b6_10ddb1e0a5bcrow4_col1\" class=\"data row4 col1\" >22.36%</td>\n",
       "            </tr>\n",
       "            <tr>\n",
       "                        <th id=\"T_ef48972a_3722_11ec_a0b6_10ddb1e0a5bclevel0_row5\" class=\"row_heading level0 row5\" >Nourriture</th>\n",
       "                        <td id=\"T_ef48972a_3722_11ec_a0b6_10ddb1e0a5bcrow5_col0\" class=\"data row5 col0\" >4876310</td>\n",
       "                        <td id=\"T_ef48972a_3722_11ec_a0b6_10ddb1e0a5bcrow5_col1\" class=\"data row5 col1\" >49.47%</td>\n",
       "            </tr>\n",
       "            <tr>\n",
       "                        <th id=\"T_ef48972a_3722_11ec_a0b6_10ddb1e0a5bclevel0_row6\" class=\"row_heading level0 row6\" >Total</th>\n",
       "                        <td id=\"T_ef48972a_3722_11ec_a0b6_10ddb1e0a5bcrow6_col0\" class=\"data row6 col0\" >9857964</td>\n",
       "                        <td id=\"T_ef48972a_3722_11ec_a0b6_10ddb1e0a5bcrow6_col1\" class=\"data row6 col1\" >100.00%</td>\n",
       "            </tr>\n",
       "    </tbody></table>"
      ],
      "text/plain": [
       "<pandas.io.formats.style.Styler at 0x11ae0e670>"
      ]
     },
     "metadata": {},
     "output_type": "display_data"
    }
   ],
   "source": [
    "display(dispo_inter.sort_values(['Proportion'], \n",
    "                                ascending=True).style.format({'Utilisation de la disponibilité intérieure': \"{:.0f}\", \n",
    "                                                              'Proportion': \"{:.2%}\"}))"
   ]
  },
  {
   "cell_type": "markdown",
   "metadata": {},
   "source": [
    "La moitié de la disponibilité alimentaire des produits primaires et d'un certain nombre de produits transformés est utilisée comme nourriture (49,47%). 22.36% sont utilisés à la fabrication de produits de transformation. 13,23% sont les aliments pour animaux. 4,6% sont perdus.\n"
   ]
  },
  {
   "cell_type": "markdown",
   "metadata": {},
   "source": [
    "# **Mission 2. Mission de Julien** "
   ]
  },
  {
   "cell_type": "markdown",
   "metadata": {},
   "source": [
    "### Question 1) Utilisation du manioc par la Thaïlande (2013)"
   ]
  },
  {
   "cell_type": "code",
   "execution_count": 20,
   "metadata": {},
   "outputs": [],
   "source": [
    "thailande_manioc=np.transpose(dispo_alimentaire[(dispo_alimentaire.Zone=='Thaïlande') & (dispo_alimentaire.Produit=='Manioc')].drop(columns=['Origine', 'Zone', 'Produit']))\n",
    "thailande_manioc.columns=['Thaïlande-Manioc']"
   ]
  },
  {
   "cell_type": "code",
   "execution_count": 21,
   "metadata": {},
   "outputs": [],
   "source": [
    "s=pd.Series({'Thaïlande-Manioc' : (population[(population.Zone=='Thaïlande') & (population.Année==2013)]['Valeur'].iloc[0])}, \n",
    "            name='Population')\n",
    "p=pd.Series({'Thaïlande-Manioc' : (sous_nutrition[(sous_nutrition.Zone=='Thaïlande') & (sous_nutrition.Année==2013)]['Valeur'].iloc[0])}, \n",
    "            name='Personnes en sous-nutrition')\n",
    "thailande_manioc=thailande_manioc.append(s).append(p)"
   ]
  },
  {
   "cell_type": "code",
   "execution_count": 22,
   "metadata": {},
   "outputs": [
    {
     "data": {
      "text/html": [
       "<div>\n",
       "<style scoped>\n",
       "    .dataframe tbody tr th:only-of-type {\n",
       "        vertical-align: middle;\n",
       "    }\n",
       "\n",
       "    .dataframe tbody tr th {\n",
       "        vertical-align: top;\n",
       "    }\n",
       "\n",
       "    .dataframe thead th {\n",
       "        text-align: right;\n",
       "    }\n",
       "</style>\n",
       "<table border=\"1\" class=\"dataframe\">\n",
       "  <thead>\n",
       "    <tr style=\"text-align: right;\">\n",
       "      <th></th>\n",
       "      <th>Thaïlande-Manioc</th>\n",
       "    </tr>\n",
       "  </thead>\n",
       "  <tbody>\n",
       "    <tr>\n",
       "      <th>Aliments pour animaux</th>\n",
       "      <td>1800.000</td>\n",
       "    </tr>\n",
       "    <tr>\n",
       "      <th>Autres Utilisations</th>\n",
       "      <td>2081.000</td>\n",
       "    </tr>\n",
       "    <tr>\n",
       "      <th>Disponibilité alimentaire (Kcal/personne/jour)</th>\n",
       "      <td>40.000</td>\n",
       "    </tr>\n",
       "    <tr>\n",
       "      <th>Disponibilité alimentaire en quantité (kg/personne/an)</th>\n",
       "      <td>13.000</td>\n",
       "    </tr>\n",
       "    <tr>\n",
       "      <th>Disponibilité de matière grasse en quantité (g/personne/jour)</th>\n",
       "      <td>0.050</td>\n",
       "    </tr>\n",
       "    <tr>\n",
       "      <th>Disponibilité de protéines en quantité (g/personne/jour)</th>\n",
       "      <td>0.140</td>\n",
       "    </tr>\n",
       "    <tr>\n",
       "      <th>Disponibilité intérieure</th>\n",
       "      <td>6264.000</td>\n",
       "    </tr>\n",
       "    <tr>\n",
       "      <th>Exportations - Quantité</th>\n",
       "      <td>25214.000</td>\n",
       "    </tr>\n",
       "    <tr>\n",
       "      <th>Importations - Quantité</th>\n",
       "      <td>1250.000</td>\n",
       "    </tr>\n",
       "    <tr>\n",
       "      <th>Nourriture</th>\n",
       "      <td>871.000</td>\n",
       "    </tr>\n",
       "    <tr>\n",
       "      <th>Pertes</th>\n",
       "      <td>1511.000</td>\n",
       "    </tr>\n",
       "    <tr>\n",
       "      <th>Production</th>\n",
       "      <td>30228.000</td>\n",
       "    </tr>\n",
       "    <tr>\n",
       "      <th>Semences</th>\n",
       "      <td>0.000</td>\n",
       "    </tr>\n",
       "    <tr>\n",
       "      <th>Traitement</th>\n",
       "      <td>0.000</td>\n",
       "    </tr>\n",
       "    <tr>\n",
       "      <th>Variation de stock</th>\n",
       "      <td>0.000</td>\n",
       "    </tr>\n",
       "    <tr>\n",
       "      <th>Population</th>\n",
       "      <td>68144.518</td>\n",
       "    </tr>\n",
       "    <tr>\n",
       "      <th>Personnes en sous-nutrition</th>\n",
       "      <td>6200.000</td>\n",
       "    </tr>\n",
       "  </tbody>\n",
       "</table>\n",
       "</div>"
      ],
      "text/plain": [
       "                                                    Thaïlande-Manioc\n",
       "Aliments pour animaux                                       1800.000\n",
       "Autres Utilisations                                         2081.000\n",
       "Disponibilité alimentaire (Kcal/personne/jour)                40.000\n",
       "Disponibilité alimentaire en quantité (kg/perso...            13.000\n",
       "Disponibilité de matière grasse en quantité (g/...             0.050\n",
       "Disponibilité de protéines en quantité (g/perso...             0.140\n",
       "Disponibilité intérieure                                    6264.000\n",
       "Exportations - Quantité                                    25214.000\n",
       "Importations - Quantité                                     1250.000\n",
       "Nourriture                                                   871.000\n",
       "Pertes                                                      1511.000\n",
       "Production                                                 30228.000\n",
       "Semences                                                       0.000\n",
       "Traitement                                                     0.000\n",
       "Variation de stock                                             0.000\n",
       "Population                                                 68144.518\n",
       "Personnes en sous-nutrition                                 6200.000"
      ]
     },
     "execution_count": 22,
     "metadata": {},
     "output_type": "execute_result"
    }
   ],
   "source": [
    "thailande_manioc"
   ]
  },
  {
   "cell_type": "code",
   "execution_count": 23,
   "metadata": {},
   "outputs": [
    {
     "name": "stdout",
     "output_type": "stream",
     "text": [
      "Le manioc produit en Thaïlande mais exporté du pays pourrait nourrir 34307310  personnes.\n",
      "Pour nourrir tous les personnes en sous-nutrition (6200000  personnes) il suffit de réduire l'export de 8436 (n'exporter que 16778 milliers de tonnes).\n"
     ]
    }
   ],
   "source": [
    "# 1er calcul :  nombre de kcal dans manioc par unité (mille tonnes)\n",
    "# 2ème calcul: ensuite on calcule le nombre de kcal dans manioc exporté\n",
    "red_exp=thailande_manioc.loc['Population'][0]*1000*thailande_manioc.loc['Disponibilité alimentaire (Kcal/personne/jour)'][0]/thailande_manioc.loc['Nourriture'][0]/2300*thailande_manioc.loc['Personnes en sous-nutrition'][0]/1000\n",
    "print('Le manioc produit en Thaïlande mais exporté du pays pourrait nourrir %.0f  personnes.' % (thailande_manioc.loc['Population'][0]*1000*thailande_manioc.loc['Disponibilité alimentaire (Kcal/personne/jour)'][0]/thailande_manioc.loc['Nourriture'][0]*thailande_manioc.loc['Exportations - Quantité'][0]/2300))\n",
    "print('Pour nourrir tous les personnes en sous-nutrition (%.0f' % (thailande_manioc.loc['Personnes en sous-nutrition'][0]*1000), ' personnes) il suffit de réduire l\\'export de %.0f' % red_exp, '(n\\'exporter que %.0f milliers de tonnes).' % (thailande_manioc.loc['Exportations - Quantité'][0]-red_exp)) "
   ]
  },
  {
   "cell_type": "markdown",
   "metadata": {},
   "source": [
    "### 2) La répartition des céréales entre l’alimentation humaine et l’alimentation pour animaux (2013) "
   ]
  },
  {
   "cell_type": "code",
   "execution_count": 24,
   "metadata": {},
   "outputs": [],
   "source": [
    "# on regroupe la disponibilité alimentaire des céréales par le type de céréale.\n",
    "dispo_cereales=dispo_alimentaire.drop(dispo_alimentaire[~dispo_alimentaire['Produit']\n",
    ".isin(['Avoine', 'Blé', 'Céréales, Autres', 'Maïs', 'Millet', 'Orge', 'Riz (Eq Blanchi)', 'Seigle', 'Sorgho'])].index)\n"
   ]
  },
  {
   "cell_type": "code",
   "execution_count": 25,
   "metadata": {},
   "outputs": [],
   "source": [
    "# on supprime les colonnes dont on n'a pas besoin\n",
    "dispo_cereales=dispo_cereales.groupby('Produit').agg('sum').drop(columns=['Exportations - Quantité', 'Importations - Quantité', 'Production', 'Variation de stock', 'Disponibilité alimentaire (Kcal/personne/jour)', 'Disponibilité alimentaire en quantité (kg/personne/an)', 'Disponibilité de matière grasse en quantité (g/personne/jour)', 'Disponibilité de protéines en quantité (g/personne/jour)', 'Disponibilité intérieure'])\n"
   ]
  },
  {
   "cell_type": "code",
   "execution_count": 26,
   "metadata": {},
   "outputs": [],
   "source": [
    "# On fait la somme des variables qui précisent les utilisations de la disponibilité \n",
    "dispo_cereales['Total']=dispo_cereales.sum(axis=1)"
   ]
  },
  {
   "cell_type": "code",
   "execution_count": 27,
   "metadata": {},
   "outputs": [
    {
     "data": {
      "text/html": [
       "<div>\n",
       "<style scoped>\n",
       "    .dataframe tbody tr th:only-of-type {\n",
       "        vertical-align: middle;\n",
       "    }\n",
       "\n",
       "    .dataframe tbody tr th {\n",
       "        vertical-align: top;\n",
       "    }\n",
       "\n",
       "    .dataframe thead th {\n",
       "        text-align: right;\n",
       "    }\n",
       "</style>\n",
       "<table border=\"1\" class=\"dataframe\">\n",
       "  <thead>\n",
       "    <tr style=\"text-align: right;\">\n",
       "      <th></th>\n",
       "      <th>Aliments pour animaux</th>\n",
       "      <th>Autres Utilisations</th>\n",
       "      <th>Nourriture</th>\n",
       "      <th>Pertes</th>\n",
       "      <th>Semences</th>\n",
       "      <th>Traitement</th>\n",
       "      <th>Total</th>\n",
       "    </tr>\n",
       "    <tr>\n",
       "      <th>Produit</th>\n",
       "      <th></th>\n",
       "      <th></th>\n",
       "      <th></th>\n",
       "      <th></th>\n",
       "      <th></th>\n",
       "      <th></th>\n",
       "      <th></th>\n",
       "    </tr>\n",
       "  </thead>\n",
       "  <tbody>\n",
       "    <tr>\n",
       "      <th>Avoine</th>\n",
       "      <td>16201.0</td>\n",
       "      <td>205.0</td>\n",
       "      <td>4149.0</td>\n",
       "      <td>514.0</td>\n",
       "      <td>2485.0</td>\n",
       "      <td>1.0</td>\n",
       "      <td>23555.0</td>\n",
       "    </tr>\n",
       "    <tr>\n",
       "      <th>Blé</th>\n",
       "      <td>129668.0</td>\n",
       "      <td>22424.0</td>\n",
       "      <td>457824.0</td>\n",
       "      <td>27530.0</td>\n",
       "      <td>34283.0</td>\n",
       "      <td>7877.0</td>\n",
       "      <td>679606.0</td>\n",
       "    </tr>\n",
       "    <tr>\n",
       "      <th>Céréales, Autres</th>\n",
       "      <td>19016.0</td>\n",
       "      <td>1387.0</td>\n",
       "      <td>5307.0</td>\n",
       "      <td>780.0</td>\n",
       "      <td>1193.0</td>\n",
       "      <td>22.0</td>\n",
       "      <td>27705.0</td>\n",
       "    </tr>\n",
       "    <tr>\n",
       "      <th>Maïs</th>\n",
       "      <td>546116.0</td>\n",
       "      <td>189386.0</td>\n",
       "      <td>125184.0</td>\n",
       "      <td>40701.0</td>\n",
       "      <td>6837.0</td>\n",
       "      <td>47648.0</td>\n",
       "      <td>955872.0</td>\n",
       "    </tr>\n",
       "    <tr>\n",
       "      <th>Millet</th>\n",
       "      <td>3306.0</td>\n",
       "      <td>196.0</td>\n",
       "      <td>23040.0</td>\n",
       "      <td>2276.0</td>\n",
       "      <td>682.0</td>\n",
       "      <td>403.0</td>\n",
       "      <td>29903.0</td>\n",
       "    </tr>\n",
       "    <tr>\n",
       "      <th>Orge</th>\n",
       "      <td>92658.0</td>\n",
       "      <td>654.0</td>\n",
       "      <td>6794.0</td>\n",
       "      <td>4628.0</td>\n",
       "      <td>8804.0</td>\n",
       "      <td>26910.0</td>\n",
       "      <td>140448.0</td>\n",
       "    </tr>\n",
       "    <tr>\n",
       "      <th>Riz (Eq Blanchi)</th>\n",
       "      <td>33594.0</td>\n",
       "      <td>18464.0</td>\n",
       "      <td>377286.0</td>\n",
       "      <td>27378.0</td>\n",
       "      <td>12194.0</td>\n",
       "      <td>6740.0</td>\n",
       "      <td>475656.0</td>\n",
       "    </tr>\n",
       "    <tr>\n",
       "      <th>Seigle</th>\n",
       "      <td>8099.0</td>\n",
       "      <td>20.0</td>\n",
       "      <td>5502.0</td>\n",
       "      <td>562.0</td>\n",
       "      <td>1262.0</td>\n",
       "      <td>1120.0</td>\n",
       "      <td>16565.0</td>\n",
       "    </tr>\n",
       "    <tr>\n",
       "      <th>Sorgho</th>\n",
       "      <td>24808.0</td>\n",
       "      <td>2049.0</td>\n",
       "      <td>24153.0</td>\n",
       "      <td>2746.0</td>\n",
       "      <td>788.0</td>\n",
       "      <td>3695.0</td>\n",
       "      <td>58239.0</td>\n",
       "    </tr>\n",
       "  </tbody>\n",
       "</table>\n",
       "</div>"
      ],
      "text/plain": [
       "                  Aliments pour animaux  Autres Utilisations  Nourriture  \\\n",
       "Produit                                                                    \n",
       "Avoine                          16201.0                205.0      4149.0   \n",
       "Blé                            129668.0              22424.0    457824.0   \n",
       "Céréales, Autres                19016.0               1387.0      5307.0   \n",
       "Maïs                           546116.0             189386.0    125184.0   \n",
       "Millet                           3306.0                196.0     23040.0   \n",
       "Orge                            92658.0                654.0      6794.0   \n",
       "Riz (Eq Blanchi)                33594.0              18464.0    377286.0   \n",
       "Seigle                           8099.0                 20.0      5502.0   \n",
       "Sorgho                          24808.0               2049.0     24153.0   \n",
       "\n",
       "                   Pertes  Semences  Traitement     Total  \n",
       "Produit                                                    \n",
       "Avoine              514.0    2485.0         1.0   23555.0  \n",
       "Blé               27530.0   34283.0      7877.0  679606.0  \n",
       "Céréales, Autres    780.0    1193.0        22.0   27705.0  \n",
       "Maïs              40701.0    6837.0     47648.0  955872.0  \n",
       "Millet             2276.0     682.0       403.0   29903.0  \n",
       "Orge               4628.0    8804.0     26910.0  140448.0  \n",
       "Riz (Eq Blanchi)  27378.0   12194.0      6740.0  475656.0  \n",
       "Seigle              562.0    1262.0      1120.0   16565.0  \n",
       "Sorgho             2746.0     788.0      3695.0   58239.0  "
      ]
     },
     "execution_count": 27,
     "metadata": {},
     "output_type": "execute_result"
    }
   ],
   "source": [
    "dispo_cereales"
   ]
  },
  {
   "cell_type": "code",
   "execution_count": 28,
   "metadata": {},
   "outputs": [],
   "source": [
    "# on crée un tableau avec les répartitions des utilisations de la disponibilité alimentaire des céréales (les sommes et les proportions)\n",
    "\n",
    "dispo_cer_tot=sum(dispo_cereales['Aliments pour animaux'])+sum(dispo_cereales['Autres Utilisations'])+sum(dispo_cereales['Nourriture'])+sum(dispo_cereales['Pertes'])+sum(dispo_cereales['Semences'])+sum(dispo_cereales['Traitement'])\n",
    "\n",
    "repartition_cer=pd.DataFrame(data=[[sum(dispo_cereales['Aliments pour animaux']), sum(dispo_cereales['Aliments pour animaux'])/dispo_cer_tot],\n",
    "\n",
    "                               [sum(dispo_cereales['Autres Utilisations']), sum(dispo_cereales['Autres Utilisations'])/dispo_cer_tot],\n",
    "\n",
    "                               [sum(dispo_cereales['Nourriture']), sum(dispo_cereales['Nourriture'])/dispo_cer_tot],\n",
    "\n",
    "                               [sum(dispo_cereales['Pertes']), sum(dispo_cereales['Pertes'])/dispo_cer_tot],\n",
    "\n",
    "                               [sum(dispo_cereales['Semences']), sum(dispo_cereales['Semences'])/dispo_cer_tot],\n",
    "\n",
    "                               [sum(dispo_cereales['Traitement']), sum(dispo_cereales['Traitement'])/dispo_cer_tot],\n",
    "\n",
    "                               [dispo_cer_tot, 1]],\n",
    "\n",
    "                         index=['Aliments pour animaux', 'Autres Utilisations', 'Nourriture', 'Pertes', 'Semences', 'Traitement', 'Total'], \n",
    "\n",
    "                         columns=['Utilisation des céréales', 'Proportion'])"
   ]
  },
  {
   "cell_type": "code",
   "execution_count": 29,
   "metadata": {},
   "outputs": [
    {
     "data": {
      "text/html": [
       "<style  type=\"text/css\" >\n",
       "</style><table id=\"T_f0a67380_3722_11ec_a0b6_10ddb1e0a5bc\" ><thead>    <tr>        <th class=\"blank level0\" ></th>        <th class=\"col_heading level0 col0\" >Utilisation des céréales</th>        <th class=\"col_heading level0 col1\" >Proportion</th>    </tr></thead><tbody>\n",
       "                <tr>\n",
       "                        <th id=\"T_f0a67380_3722_11ec_a0b6_10ddb1e0a5bclevel0_row0\" class=\"row_heading level0 row0\" >Semences</th>\n",
       "                        <td id=\"T_f0a67380_3722_11ec_a0b6_10ddb1e0a5bcrow0_col0\" class=\"data row0 col0\" >68528</td>\n",
       "                        <td id=\"T_f0a67380_3722_11ec_a0b6_10ddb1e0a5bcrow0_col1\" class=\"data row0 col1\" >2.85%</td>\n",
       "            </tr>\n",
       "            <tr>\n",
       "                        <th id=\"T_f0a67380_3722_11ec_a0b6_10ddb1e0a5bclevel0_row1\" class=\"row_heading level0 row1\" >Traitement</th>\n",
       "                        <td id=\"T_f0a67380_3722_11ec_a0b6_10ddb1e0a5bcrow1_col0\" class=\"data row1 col0\" >94416</td>\n",
       "                        <td id=\"T_f0a67380_3722_11ec_a0b6_10ddb1e0a5bcrow1_col1\" class=\"data row1 col1\" >3.92%</td>\n",
       "            </tr>\n",
       "            <tr>\n",
       "                        <th id=\"T_f0a67380_3722_11ec_a0b6_10ddb1e0a5bclevel0_row2\" class=\"row_heading level0 row2\" >Pertes</th>\n",
       "                        <td id=\"T_f0a67380_3722_11ec_a0b6_10ddb1e0a5bcrow2_col0\" class=\"data row2 col0\" >107115</td>\n",
       "                        <td id=\"T_f0a67380_3722_11ec_a0b6_10ddb1e0a5bcrow2_col1\" class=\"data row2 col1\" >4.45%</td>\n",
       "            </tr>\n",
       "            <tr>\n",
       "                        <th id=\"T_f0a67380_3722_11ec_a0b6_10ddb1e0a5bclevel0_row3\" class=\"row_heading level0 row3\" >Autres Utilisations</th>\n",
       "                        <td id=\"T_f0a67380_3722_11ec_a0b6_10ddb1e0a5bcrow3_col0\" class=\"data row3 col0\" >234785</td>\n",
       "                        <td id=\"T_f0a67380_3722_11ec_a0b6_10ddb1e0a5bcrow3_col1\" class=\"data row3 col1\" >9.75%</td>\n",
       "            </tr>\n",
       "            <tr>\n",
       "                        <th id=\"T_f0a67380_3722_11ec_a0b6_10ddb1e0a5bclevel0_row4\" class=\"row_heading level0 row4\" >Aliments pour animaux</th>\n",
       "                        <td id=\"T_f0a67380_3722_11ec_a0b6_10ddb1e0a5bcrow4_col0\" class=\"data row4 col0\" >873466</td>\n",
       "                        <td id=\"T_f0a67380_3722_11ec_a0b6_10ddb1e0a5bcrow4_col1\" class=\"data row4 col1\" >36.28%</td>\n",
       "            </tr>\n",
       "            <tr>\n",
       "                        <th id=\"T_f0a67380_3722_11ec_a0b6_10ddb1e0a5bclevel0_row5\" class=\"row_heading level0 row5\" >Nourriture</th>\n",
       "                        <td id=\"T_f0a67380_3722_11ec_a0b6_10ddb1e0a5bcrow5_col0\" class=\"data row5 col0\" >1029239</td>\n",
       "                        <td id=\"T_f0a67380_3722_11ec_a0b6_10ddb1e0a5bcrow5_col1\" class=\"data row5 col1\" >42.75%</td>\n",
       "            </tr>\n",
       "            <tr>\n",
       "                        <th id=\"T_f0a67380_3722_11ec_a0b6_10ddb1e0a5bclevel0_row6\" class=\"row_heading level0 row6\" >Total</th>\n",
       "                        <td id=\"T_f0a67380_3722_11ec_a0b6_10ddb1e0a5bcrow6_col0\" class=\"data row6 col0\" >2407549</td>\n",
       "                        <td id=\"T_f0a67380_3722_11ec_a0b6_10ddb1e0a5bcrow6_col1\" class=\"data row6 col1\" >100.00%</td>\n",
       "            </tr>\n",
       "    </tbody></table>"
      ],
      "text/plain": [
       "<pandas.io.formats.style.Styler at 0x119a37820>"
      ]
     },
     "metadata": {},
     "output_type": "display_data"
    }
   ],
   "source": [
    "display(repartition_cer.sort_values(['Proportion'], ascending=True).style.format({'Utilisation des céréales': \"{:.0f}\", 'Proportion': \"{:.2%}\"}))"
   ]
  },
  {
   "cell_type": "markdown",
   "metadata": {},
   "source": [
    "Les céréales sont utilisées surtout comme nourriture pour les êtres humaines. Pourtant une grande partie de tout le stock des céréales, 36,28% est utilisée pour nourrir les animaux"
   ]
  },
  {
   "cell_type": "code",
   "execution_count": 30,
   "metadata": {},
   "outputs": [],
   "source": [
    "# on crée un tableau avec les répartitions des utilisations de la disponibilité alimentaire par les cetégories de céréales\n",
    "# une matrice avec les valeurs qui nous intéressent\n",
    "matrixArr1=np.empty((0, len(dispo_cereales.columns)), str)\n",
    "for j in ['Avoine', 'Blé', 'Céréales, Autres', 'Maïs', 'Millet', 'Orge', 'Riz (Eq Blanchi)', 'Seigle', 'Sorgho']:\n",
    "    currentList=[]\n",
    "    for i in range(len(dispo_cereales.columns)):\n",
    "        currentList.append(dispo_cereales.loc[j][i]/dispo_cereales.loc[j][-1])\n",
    "    matrixArr2 =np.array([currentList])\n",
    "    if matrixArr1.size == 0:\n",
    "        matrixArr1 = matrixArr2\n",
    "    else:\n",
    "        matrixArr1 = np.append(matrixArr1, matrixArr2, axis=0)"
   ]
  },
  {
   "cell_type": "code",
   "execution_count": 31,
   "metadata": {},
   "outputs": [],
   "source": [
    "# on donne les nommes aux colonnes et aux tuples\n",
    "repartition_par_cer=pd.DataFrame(data=matrixArr1, \n",
    "                                 index=['Avoine', 'Blé', 'Céréales, Autres', 'Maïs', 'Millet', 'Orge', 'Riz (Eq Blanchi)', 'Seigle', 'Sorgho'], \n",
    "                                 columns=['Aliments pour animaux', 'Autres Utilisations', 'Nourriture', 'Pertes', 'Semences', 'Traitement', 'Total'])"
   ]
  },
  {
   "cell_type": "code",
   "execution_count": 32,
   "metadata": {},
   "outputs": [
    {
     "data": {
      "text/html": [
       "<style  type=\"text/css\" >\n",
       "</style><table id=\"T_f121ee16_3722_11ec_a0b6_10ddb1e0a5bc\" ><thead>    <tr>        <th class=\"blank level0\" ></th>        <th class=\"col_heading level0 col0\" >Aliments pour animaux</th>        <th class=\"col_heading level0 col1\" >Nourriture</th>    </tr></thead><tbody>\n",
       "                <tr>\n",
       "                        <th id=\"T_f121ee16_3722_11ec_a0b6_10ddb1e0a5bclevel0_row0\" class=\"row_heading level0 row0\" >Avoine</th>\n",
       "                        <td id=\"T_f121ee16_3722_11ec_a0b6_10ddb1e0a5bcrow0_col0\" class=\"data row0 col0\" >68.78%</td>\n",
       "                        <td id=\"T_f121ee16_3722_11ec_a0b6_10ddb1e0a5bcrow0_col1\" class=\"data row0 col1\" >17.61%</td>\n",
       "            </tr>\n",
       "            <tr>\n",
       "                        <th id=\"T_f121ee16_3722_11ec_a0b6_10ddb1e0a5bclevel0_row1\" class=\"row_heading level0 row1\" >Céréales, Autres</th>\n",
       "                        <td id=\"T_f121ee16_3722_11ec_a0b6_10ddb1e0a5bcrow1_col0\" class=\"data row1 col0\" >68.64%</td>\n",
       "                        <td id=\"T_f121ee16_3722_11ec_a0b6_10ddb1e0a5bcrow1_col1\" class=\"data row1 col1\" >19.16%</td>\n",
       "            </tr>\n",
       "            <tr>\n",
       "                        <th id=\"T_f121ee16_3722_11ec_a0b6_10ddb1e0a5bclevel0_row2\" class=\"row_heading level0 row2\" >Orge</th>\n",
       "                        <td id=\"T_f121ee16_3722_11ec_a0b6_10ddb1e0a5bcrow2_col0\" class=\"data row2 col0\" >65.97%</td>\n",
       "                        <td id=\"T_f121ee16_3722_11ec_a0b6_10ddb1e0a5bcrow2_col1\" class=\"data row2 col1\" >4.84%</td>\n",
       "            </tr>\n",
       "            <tr>\n",
       "                        <th id=\"T_f121ee16_3722_11ec_a0b6_10ddb1e0a5bclevel0_row3\" class=\"row_heading level0 row3\" >Maïs</th>\n",
       "                        <td id=\"T_f121ee16_3722_11ec_a0b6_10ddb1e0a5bcrow3_col0\" class=\"data row3 col0\" >57.13%</td>\n",
       "                        <td id=\"T_f121ee16_3722_11ec_a0b6_10ddb1e0a5bcrow3_col1\" class=\"data row3 col1\" >13.10%</td>\n",
       "            </tr>\n",
       "            <tr>\n",
       "                        <th id=\"T_f121ee16_3722_11ec_a0b6_10ddb1e0a5bclevel0_row4\" class=\"row_heading level0 row4\" >Seigle</th>\n",
       "                        <td id=\"T_f121ee16_3722_11ec_a0b6_10ddb1e0a5bcrow4_col0\" class=\"data row4 col0\" >48.89%</td>\n",
       "                        <td id=\"T_f121ee16_3722_11ec_a0b6_10ddb1e0a5bcrow4_col1\" class=\"data row4 col1\" >33.21%</td>\n",
       "            </tr>\n",
       "            <tr>\n",
       "                        <th id=\"T_f121ee16_3722_11ec_a0b6_10ddb1e0a5bclevel0_row5\" class=\"row_heading level0 row5\" >Sorgho</th>\n",
       "                        <td id=\"T_f121ee16_3722_11ec_a0b6_10ddb1e0a5bcrow5_col0\" class=\"data row5 col0\" >42.60%</td>\n",
       "                        <td id=\"T_f121ee16_3722_11ec_a0b6_10ddb1e0a5bcrow5_col1\" class=\"data row5 col1\" >41.47%</td>\n",
       "            </tr>\n",
       "            <tr>\n",
       "                        <th id=\"T_f121ee16_3722_11ec_a0b6_10ddb1e0a5bclevel0_row6\" class=\"row_heading level0 row6\" >Blé</th>\n",
       "                        <td id=\"T_f121ee16_3722_11ec_a0b6_10ddb1e0a5bcrow6_col0\" class=\"data row6 col0\" >19.08%</td>\n",
       "                        <td id=\"T_f121ee16_3722_11ec_a0b6_10ddb1e0a5bcrow6_col1\" class=\"data row6 col1\" >67.37%</td>\n",
       "            </tr>\n",
       "            <tr>\n",
       "                        <th id=\"T_f121ee16_3722_11ec_a0b6_10ddb1e0a5bclevel0_row7\" class=\"row_heading level0 row7\" >Millet</th>\n",
       "                        <td id=\"T_f121ee16_3722_11ec_a0b6_10ddb1e0a5bcrow7_col0\" class=\"data row7 col0\" >11.06%</td>\n",
       "                        <td id=\"T_f121ee16_3722_11ec_a0b6_10ddb1e0a5bcrow7_col1\" class=\"data row7 col1\" >77.05%</td>\n",
       "            </tr>\n",
       "            <tr>\n",
       "                        <th id=\"T_f121ee16_3722_11ec_a0b6_10ddb1e0a5bclevel0_row8\" class=\"row_heading level0 row8\" >Riz (Eq Blanchi)</th>\n",
       "                        <td id=\"T_f121ee16_3722_11ec_a0b6_10ddb1e0a5bcrow8_col0\" class=\"data row8 col0\" >7.06%</td>\n",
       "                        <td id=\"T_f121ee16_3722_11ec_a0b6_10ddb1e0a5bcrow8_col1\" class=\"data row8 col1\" >79.32%</td>\n",
       "            </tr>\n",
       "    </tbody></table>"
      ],
      "text/plain": [
       "<pandas.io.formats.style.Styler at 0x119a41820>"
      ]
     },
     "metadata": {},
     "output_type": "display_data"
    }
   ],
   "source": [
    "# on choisit seulement les colonnes 'Aliments pour animaux' et 'Nourriture'\n",
    "#triées par ordre decroissant des proportions des aliments pour animaux\n",
    "repartition_par_cer=repartition_par_cer[\n",
    "    ['Aliments pour animaux', 'Nourriture']].sort_values(by='Aliments pour animaux',\n",
    "                                                                                             ascending=False)\n",
    "display(repartition_par_cer.style.format({'Aliments pour animaux': \"{:.2%}\", 'Nourriture': \"{:.2%}\"}))"
   ]
  },
  {
   "cell_type": "markdown",
   "metadata": {},
   "source": [
    "Le riz, le millet et le blé servent à nourrir surtout les êtres humains. L'avoine, l'orge, le maïs, les autres céréales sont utilisés comme les aliments pour animaux.\n"
   ]
  },
  {
   "cell_type": "markdown",
   "metadata": {},
   "source": [
    "# Mission n°3. Mission de Mélanie "
   ]
  },
  {
   "cell_type": "markdown",
   "metadata": {},
   "source": [
    "## Question n°1 : Quels sont les pays qui ont le plus bénéficié d’aide depuis 2013 "
   ]
  },
  {
   "cell_type": "code",
   "execution_count": 33,
   "metadata": {},
   "outputs": [
    {
     "data": {
      "text/html": [
       "<div>\n",
       "<style scoped>\n",
       "    .dataframe tbody tr th:only-of-type {\n",
       "        vertical-align: middle;\n",
       "    }\n",
       "\n",
       "    .dataframe tbody tr th {\n",
       "        vertical-align: top;\n",
       "    }\n",
       "\n",
       "    .dataframe thead th {\n",
       "        text-align: right;\n",
       "    }\n",
       "</style>\n",
       "<table border=\"1\" class=\"dataframe\">\n",
       "  <thead>\n",
       "    <tr style=\"text-align: right;\">\n",
       "      <th>Année</th>\n",
       "      <th>2013</th>\n",
       "      <th>2014</th>\n",
       "      <th>2015</th>\n",
       "      <th>2016</th>\n",
       "      <th>All</th>\n",
       "    </tr>\n",
       "    <tr>\n",
       "      <th>Pays bénéficiaire</th>\n",
       "      <th></th>\n",
       "      <th></th>\n",
       "      <th></th>\n",
       "      <th></th>\n",
       "      <th></th>\n",
       "    </tr>\n",
       "  </thead>\n",
       "  <tbody>\n",
       "    <tr>\n",
       "      <th>République arabe syrienne</th>\n",
       "      <td>563566.0</td>\n",
       "      <td>651870.0</td>\n",
       "      <td>524949.0</td>\n",
       "      <td>118558.0</td>\n",
       "      <td>1858943</td>\n",
       "    </tr>\n",
       "    <tr>\n",
       "      <th>Éthiopie</th>\n",
       "      <td>591404.0</td>\n",
       "      <td>586624.0</td>\n",
       "      <td>203266.0</td>\n",
       "      <td>NaN</td>\n",
       "      <td>1381294</td>\n",
       "    </tr>\n",
       "    <tr>\n",
       "      <th>Yémen</th>\n",
       "      <td>264764.0</td>\n",
       "      <td>103840.0</td>\n",
       "      <td>372306.0</td>\n",
       "      <td>465574.0</td>\n",
       "      <td>1206484</td>\n",
       "    </tr>\n",
       "    <tr>\n",
       "      <th>Soudan du Sud</th>\n",
       "      <td>196330.0</td>\n",
       "      <td>450610.0</td>\n",
       "      <td>48308.0</td>\n",
       "      <td>NaN</td>\n",
       "      <td>695248</td>\n",
       "    </tr>\n",
       "    <tr>\n",
       "      <th>Soudan</th>\n",
       "      <td>330230.0</td>\n",
       "      <td>321904.0</td>\n",
       "      <td>17650.0</td>\n",
       "      <td>NaN</td>\n",
       "      <td>669784</td>\n",
       "    </tr>\n",
       "    <tr>\n",
       "      <th>Kenya</th>\n",
       "      <td>220966.0</td>\n",
       "      <td>217418.0</td>\n",
       "      <td>114452.0</td>\n",
       "      <td>NaN</td>\n",
       "      <td>552836</td>\n",
       "    </tr>\n",
       "    <tr>\n",
       "      <th>Bangladesh</th>\n",
       "      <td>131018.0</td>\n",
       "      <td>194628.0</td>\n",
       "      <td>22542.0</td>\n",
       "      <td>NaN</td>\n",
       "      <td>348188</td>\n",
       "    </tr>\n",
       "    <tr>\n",
       "      <th>Somalie</th>\n",
       "      <td>139800.0</td>\n",
       "      <td>81180.0</td>\n",
       "      <td>71698.0</td>\n",
       "      <td>NaN</td>\n",
       "      <td>292678</td>\n",
       "    </tr>\n",
       "    <tr>\n",
       "      <th>République démocratique du Congo</th>\n",
       "      <td>150320.0</td>\n",
       "      <td>70134.0</td>\n",
       "      <td>68048.0</td>\n",
       "      <td>NaN</td>\n",
       "      <td>288502</td>\n",
       "    </tr>\n",
       "    <tr>\n",
       "      <th>Niger</th>\n",
       "      <td>62720.0</td>\n",
       "      <td>66226.0</td>\n",
       "      <td>54656.0</td>\n",
       "      <td>92742.0</td>\n",
       "      <td>276344</td>\n",
       "    </tr>\n",
       "  </tbody>\n",
       "</table>\n",
       "</div>"
      ],
      "text/plain": [
       "Année                                 2013      2014      2015      2016  \\\n",
       "Pays bénéficiaire                                                          \n",
       "République arabe syrienne         563566.0  651870.0  524949.0  118558.0   \n",
       "Éthiopie                          591404.0  586624.0  203266.0       NaN   \n",
       "Yémen                             264764.0  103840.0  372306.0  465574.0   \n",
       "Soudan du Sud                     196330.0  450610.0   48308.0       NaN   \n",
       "Soudan                            330230.0  321904.0   17650.0       NaN   \n",
       "Kenya                             220966.0  217418.0  114452.0       NaN   \n",
       "Bangladesh                        131018.0  194628.0   22542.0       NaN   \n",
       "Somalie                           139800.0   81180.0   71698.0       NaN   \n",
       "République démocratique du Congo  150320.0   70134.0   68048.0       NaN   \n",
       "Niger                              62720.0   66226.0   54656.0   92742.0   \n",
       "\n",
       "Année                                 All  \n",
       "Pays bénéficiaire                          \n",
       "République arabe syrienne         1858943  \n",
       "Éthiopie                          1381294  \n",
       "Yémen                             1206484  \n",
       "Soudan du Sud                      695248  \n",
       "Soudan                             669784  \n",
       "Kenya                              552836  \n",
       "Bangladesh                         348188  \n",
       "Somalie                            292678  \n",
       "République démocratique du Congo   288502  \n",
       "Niger                              276344  "
      ]
     },
     "execution_count": 33,
     "metadata": {},
     "output_type": "execute_result"
    }
   ],
   "source": [
    "pivot_pays_aide_alimentaire=aide_alimentaire.pivot_table('Valeur',\n",
    "                                                         index='Pays bénéficiaire',\n",
    "                                                         columns='Année',\n",
    "                                                         aggfunc='sum',\n",
    "                                                         margins=True)\n",
    "pivot_pays_aide_alimentaire.sort_values(['All'], \n",
    "                                        ascending=False).drop(index='All').head(10)"
   ]
  },
  {
   "cell_type": "markdown",
   "metadata": {},
   "source": [
    "Trois pays : République arabe syrienne, Éthiopie, Yémen ont le plus bénéficié d'aide alimentaire entre 2013 et 2016.\n"
   ]
  },
  {
   "cell_type": "code",
   "execution_count": 34,
   "metadata": {},
   "outputs": [
    {
     "name": "stdout",
     "output_type": "stream",
     "text": [
      "La République arabe syrienne a reçu 8.42% du total aide alimentaire en 2013-2016.\n",
      "L'Éthiopie a reçu 6.26% du total aide alimentaire en 2013-2016.\n",
      "Le Yémen a reçu 5.47% du total aide alimentaire en 2013-2016.\n"
     ]
    }
   ],
   "source": [
    "print('La République arabe syrienne a reçu %.2f' % ((pivot_pays_aide_alimentaire.at['République arabe syrienne', 'All'])*100/\n",
    "                                                    sum(pivot_pays_aide_alimentaire['All'])),\n",
    "      '% du total aide alimentaire en 2013-2016.', sep='')\n",
    "print('L\\'Éthiopie a reçu %.2f' % ((pivot_pays_aide_alimentaire.at['Éthiopie', 'All'])*100/\n",
    "                                   sum(pivot_pays_aide_alimentaire['All'])),\n",
    "      '% du total aide alimentaire en 2013-2016.', sep='')\n",
    "print('Le Yémen a reçu %.2f' % ((pivot_pays_aide_alimentaire.at['Yémen', 'All'])*100/\n",
    "                                sum(pivot_pays_aide_alimentaire['All'])),\n",
    "      '% du total aide alimentaire en 2013-2016.', sep='')"
   ]
  },
  {
   "cell_type": "code",
   "execution_count": 35,
   "metadata": {},
   "outputs": [
    {
     "data": {
      "text/html": [
       "<div>\n",
       "<style scoped>\n",
       "    .dataframe tbody tr th:only-of-type {\n",
       "        vertical-align: middle;\n",
       "    }\n",
       "\n",
       "    .dataframe tbody tr th {\n",
       "        vertical-align: top;\n",
       "    }\n",
       "\n",
       "    .dataframe thead th {\n",
       "        text-align: right;\n",
       "    }\n",
       "</style>\n",
       "<table border=\"1\" class=\"dataframe\">\n",
       "  <thead>\n",
       "    <tr style=\"text-align: right;\">\n",
       "      <th></th>\n",
       "      <th>Pays bénéficiaire</th>\n",
       "      <th>Année</th>\n",
       "      <th>Produit</th>\n",
       "      <th>Valeur</th>\n",
       "    </tr>\n",
       "  </thead>\n",
       "  <tbody>\n",
       "    <tr>\n",
       "      <th>219</th>\n",
       "      <td>Chine, continentale</td>\n",
       "      <td>2014</td>\n",
       "      <td>Huiles végétales</td>\n",
       "      <td>0</td>\n",
       "    </tr>\n",
       "    <tr>\n",
       "      <th>220</th>\n",
       "      <td>Chine, continentale</td>\n",
       "      <td>2014</td>\n",
       "      <td>Non-céréales</td>\n",
       "      <td>0</td>\n",
       "    </tr>\n",
       "    <tr>\n",
       "      <th>1338</th>\n",
       "      <td>Sri Lanka</td>\n",
       "      <td>2015</td>\n",
       "      <td>Sucre, total</td>\n",
       "      <td>0</td>\n",
       "    </tr>\n",
       "    <tr>\n",
       "      <th>1362</th>\n",
       "      <td>Tadjikistan</td>\n",
       "      <td>2015</td>\n",
       "      <td>Lait, total</td>\n",
       "      <td>0</td>\n",
       "    </tr>\n",
       "    <tr>\n",
       "      <th>1368</th>\n",
       "      <td>Tadjikistan</td>\n",
       "      <td>2015</td>\n",
       "      <td>Non-céréales</td>\n",
       "      <td>0</td>\n",
       "    </tr>\n",
       "    <tr>\n",
       "      <th>1386</th>\n",
       "      <td>Tchad</td>\n",
       "      <td>2013</td>\n",
       "      <td>Lait, total</td>\n",
       "      <td>0</td>\n",
       "    </tr>\n",
       "  </tbody>\n",
       "</table>\n",
       "</div>"
      ],
      "text/plain": [
       "        Pays bénéficiaire  Année           Produit  Valeur\n",
       "219   Chine, continentale   2014  Huiles végétales       0\n",
       "220   Chine, continentale   2014      Non-céréales       0\n",
       "1338            Sri Lanka   2015      Sucre, total       0\n",
       "1362          Tadjikistan   2015       Lait, total       0\n",
       "1368          Tadjikistan   2015      Non-céréales       0\n",
       "1386                Tchad   2013       Lait, total       0"
      ]
     },
     "execution_count": 35,
     "metadata": {},
     "output_type": "execute_result"
    }
   ],
   "source": [
    "# les lots d'aide alimentaire moins de 0,5 tonnes\n",
    "aide_alimentaire[aide_alimentaire['Valeur']==0]"
   ]
  },
  {
   "cell_type": "code",
   "execution_count": 36,
   "metadata": {},
   "outputs": [
    {
     "data": {
      "text/html": [
       "<div>\n",
       "<style scoped>\n",
       "    .dataframe tbody tr th:only-of-type {\n",
       "        vertical-align: middle;\n",
       "    }\n",
       "\n",
       "    .dataframe tbody tr th {\n",
       "        vertical-align: top;\n",
       "    }\n",
       "\n",
       "    .dataframe thead tr th {\n",
       "        text-align: left;\n",
       "    }\n",
       "\n",
       "    .dataframe thead tr:last-of-type th {\n",
       "        text-align: right;\n",
       "    }\n",
       "</style>\n",
       "<table border=\"1\" class=\"dataframe\">\n",
       "  <thead>\n",
       "    <tr>\n",
       "      <th></th>\n",
       "      <th colspan=\"4\" halign=\"left\">Valeur</th>\n",
       "      <th>Produit</th>\n",
       "    </tr>\n",
       "    <tr>\n",
       "      <th></th>\n",
       "      <th>amin</th>\n",
       "      <th>amax</th>\n",
       "      <th>mean</th>\n",
       "      <th>sum</th>\n",
       "      <th>size</th>\n",
       "    </tr>\n",
       "    <tr>\n",
       "      <th>Produit</th>\n",
       "      <th></th>\n",
       "      <th></th>\n",
       "      <th></th>\n",
       "      <th></th>\n",
       "      <th></th>\n",
       "    </tr>\n",
       "  </thead>\n",
       "  <tbody>\n",
       "    <tr>\n",
       "      <th>Autres non-céréales</th>\n",
       "      <td>1</td>\n",
       "      <td>5238</td>\n",
       "      <td>407.258333</td>\n",
       "      <td>48871</td>\n",
       "      <td>120</td>\n",
       "    </tr>\n",
       "    <tr>\n",
       "      <th>Blé et Farin</th>\n",
       "      <td>2</td>\n",
       "      <td>181066</td>\n",
       "      <td>30715.775862</td>\n",
       "      <td>1781515</td>\n",
       "      <td>58</td>\n",
       "    </tr>\n",
       "    <tr>\n",
       "      <th>BulgurFarEnt</th>\n",
       "      <td>78</td>\n",
       "      <td>47816</td>\n",
       "      <td>5856.125000</td>\n",
       "      <td>140547</td>\n",
       "      <td>24</td>\n",
       "    </tr>\n",
       "    <tr>\n",
       "      <th>Céréales</th>\n",
       "      <td>2</td>\n",
       "      <td>265013</td>\n",
       "      <td>21284.420000</td>\n",
       "      <td>4256884</td>\n",
       "      <td>200</td>\n",
       "    </tr>\n",
       "    <tr>\n",
       "      <th>Céréales Secondaires</th>\n",
       "      <td>40</td>\n",
       "      <td>213730</td>\n",
       "      <td>19124.016393</td>\n",
       "      <td>1166565</td>\n",
       "      <td>61</td>\n",
       "    </tr>\n",
       "    <tr>\n",
       "      <th>Fruits secs, total</th>\n",
       "      <td>36</td>\n",
       "      <td>900</td>\n",
       "      <td>240.666667</td>\n",
       "      <td>9386</td>\n",
       "      <td>39</td>\n",
       "    </tr>\n",
       "    <tr>\n",
       "      <th>Graisses Com</th>\n",
       "      <td>50</td>\n",
       "      <td>50</td>\n",
       "      <td>50.000000</td>\n",
       "      <td>50</td>\n",
       "      <td>1</td>\n",
       "    </tr>\n",
       "    <tr>\n",
       "      <th>Huiles végétales</th>\n",
       "      <td>0</td>\n",
       "      <td>27721</td>\n",
       "      <td>1927.223464</td>\n",
       "      <td>344973</td>\n",
       "      <td>179</td>\n",
       "    </tr>\n",
       "    <tr>\n",
       "      <th>Lait, total</th>\n",
       "      <td>0</td>\n",
       "      <td>1772</td>\n",
       "      <td>542.521739</td>\n",
       "      <td>12478</td>\n",
       "      <td>23</td>\n",
       "    </tr>\n",
       "    <tr>\n",
       "      <th>Légumineuses Sèches,Tot.</th>\n",
       "      <td>2</td>\n",
       "      <td>80947</td>\n",
       "      <td>4312.269006</td>\n",
       "      <td>737398</td>\n",
       "      <td>171</td>\n",
       "    </tr>\n",
       "    <tr>\n",
       "      <th>Mélanges et préparations</th>\n",
       "      <td>22</td>\n",
       "      <td>31600</td>\n",
       "      <td>2998.866197</td>\n",
       "      <td>425839</td>\n",
       "      <td>142</td>\n",
       "    </tr>\n",
       "    <tr>\n",
       "      <th>Non-céréales</th>\n",
       "      <td>0</td>\n",
       "      <td>101209</td>\n",
       "      <td>5734.150000</td>\n",
       "      <td>1261513</td>\n",
       "      <td>220</td>\n",
       "    </tr>\n",
       "    <tr>\n",
       "      <th>Poiss&amp;produi</th>\n",
       "      <td>3</td>\n",
       "      <td>789</td>\n",
       "      <td>304.619048</td>\n",
       "      <td>6397</td>\n",
       "      <td>21</td>\n",
       "    </tr>\n",
       "    <tr>\n",
       "      <th>Riz, total</th>\n",
       "      <td>2</td>\n",
       "      <td>88076</td>\n",
       "      <td>5050.462585</td>\n",
       "      <td>742418</td>\n",
       "      <td>147</td>\n",
       "    </tr>\n",
       "    <tr>\n",
       "      <th>Sucre, total</th>\n",
       "      <td>0</td>\n",
       "      <td>29058</td>\n",
       "      <td>1507.671642</td>\n",
       "      <td>101014</td>\n",
       "      <td>67</td>\n",
       "    </tr>\n",
       "    <tr>\n",
       "      <th>Viande Total</th>\n",
       "      <td>1</td>\n",
       "      <td>52</td>\n",
       "      <td>26.500000</td>\n",
       "      <td>53</td>\n",
       "      <td>2</td>\n",
       "    </tr>\n",
       "  </tbody>\n",
       "</table>\n",
       "</div>"
      ],
      "text/plain": [
       "                         Valeur                                Produit\n",
       "                           amin    amax          mean      sum    size\n",
       "Produit                                                               \n",
       "Autres non-céréales           1    5238    407.258333    48871     120\n",
       "Blé et Farin                  2  181066  30715.775862  1781515      58\n",
       "BulgurFarEnt                 78   47816   5856.125000   140547      24\n",
       "Céréales                      2  265013  21284.420000  4256884     200\n",
       "Céréales Secondaires         40  213730  19124.016393  1166565      61\n",
       "Fruits secs, total           36     900    240.666667     9386      39\n",
       "Graisses Com                 50      50     50.000000       50       1\n",
       "Huiles végétales              0   27721   1927.223464   344973     179\n",
       "Lait, total                   0    1772    542.521739    12478      23\n",
       "Légumineuses Sèches,Tot.      2   80947   4312.269006   737398     171\n",
       "Mélanges et préparations     22   31600   2998.866197   425839     142\n",
       "Non-céréales                  0  101209   5734.150000  1261513     220\n",
       "Poiss&produi                  3     789    304.619048     6397      21\n",
       "Riz, total                    2   88076   5050.462585   742418     147\n",
       "Sucre, total                  0   29058   1507.671642   101014      67\n",
       "Viande Total                  1      52     26.500000       53       2"
      ]
     },
     "execution_count": 36,
     "metadata": {},
     "output_type": "execute_result"
    }
   ],
   "source": [
    "# liste des catégories de produits, les min, max et moyenne valeurs envoyées (par année, par pays)\n",
    "#  somme total par produit \n",
    "# combien de temps le produit a été envoyé\n",
    "aide_alimentaire.groupby('Produit').agg({'Valeur': [np.min, np.max, np.mean, np.sum], 'Produit': np.size})\n"
   ]
  },
  {
   "cell_type": "markdown",
   "metadata": {},
   "source": [
    "Le plus souvent on envoie des produit des catégories suivantes : Non-céréales, Céréales, Huiles végétales, Légumineuses Sèches, Riz, Mélanges et préparations. Le moins souvent on envoie : Graisses Com et Viande.\n",
    "\n",
    "Blé et Farine, Céréales, Céréales Secondaires, en général, sont envoyés par les plus lourds lots. Graisses Com et Viande - par les moins lourds lots\n"
   ]
  },
  {
   "cell_type": "markdown",
   "metadata": {},
   "source": [
    "## Question N°2 : Les pays pour lesquels la proportion de personnes sous-alimentées est la plus forte en 2017"
   ]
  },
  {
   "cell_type": "code",
   "execution_count": 37,
   "metadata": {},
   "outputs": [
    {
     "data": {
      "text/html": [
       "<style  type=\"text/css\" >\n",
       "</style><table id=\"T_f2809870_3722_11ec_a0b6_10ddb1e0a5bc\" ><thead>    <tr>        <th class=\"blank level0\" ></th>        <th class=\"col_heading level0 col0\" >Personnes en sous-nutrition</th>        <th class=\"col_heading level0 col1\" >Population</th>        <th class=\"col_heading level0 col2\" >Proportion</th>    </tr>    <tr>        <th class=\"index_name level0\" >Zone</th>        <th class=\"blank\" ></th>        <th class=\"blank\" ></th>        <th class=\"blank\" ></th>    </tr></thead><tbody>\n",
       "                <tr>\n",
       "                        <th id=\"T_f2809870_3722_11ec_a0b6_10ddb1e0a5bclevel0_row0\" class=\"row_heading level0 row0\" >Haïti</th>\n",
       "                        <td id=\"T_f2809870_3722_11ec_a0b6_10ddb1e0a5bcrow0_col0\" class=\"data row0 col0\" >5300.00</td>\n",
       "                        <td id=\"T_f2809870_3722_11ec_a0b6_10ddb1e0a5bcrow0_col1\" class=\"data row0 col1\" >10982.37</td>\n",
       "                        <td id=\"T_f2809870_3722_11ec_a0b6_10ddb1e0a5bcrow0_col2\" class=\"data row0 col2\" >48.26%</td>\n",
       "            </tr>\n",
       "            <tr>\n",
       "                        <th id=\"T_f2809870_3722_11ec_a0b6_10ddb1e0a5bclevel0_row1\" class=\"row_heading level0 row1\" >République populaire démocratique de Corée</th>\n",
       "                        <td id=\"T_f2809870_3722_11ec_a0b6_10ddb1e0a5bcrow1_col0\" class=\"data row1 col0\" >12000.00</td>\n",
       "                        <td id=\"T_f2809870_3722_11ec_a0b6_10ddb1e0a5bcrow1_col1\" class=\"data row1 col1\" >25429.83</td>\n",
       "                        <td id=\"T_f2809870_3722_11ec_a0b6_10ddb1e0a5bcrow1_col2\" class=\"data row1 col2\" >47.19%</td>\n",
       "            </tr>\n",
       "            <tr>\n",
       "                        <th id=\"T_f2809870_3722_11ec_a0b6_10ddb1e0a5bclevel0_row2\" class=\"row_heading level0 row2\" >Madagascar</th>\n",
       "                        <td id=\"T_f2809870_3722_11ec_a0b6_10ddb1e0a5bcrow2_col0\" class=\"data row2 col0\" >10500.00</td>\n",
       "                        <td id=\"T_f2809870_3722_11ec_a0b6_10ddb1e0a5bcrow2_col1\" class=\"data row2 col1\" >25570.51</td>\n",
       "                        <td id=\"T_f2809870_3722_11ec_a0b6_10ddb1e0a5bcrow2_col2\" class=\"data row2 col2\" >41.06%</td>\n",
       "            </tr>\n",
       "            <tr>\n",
       "                        <th id=\"T_f2809870_3722_11ec_a0b6_10ddb1e0a5bclevel0_row3\" class=\"row_heading level0 row3\" >Libéria</th>\n",
       "                        <td id=\"T_f2809870_3722_11ec_a0b6_10ddb1e0a5bcrow3_col0\" class=\"data row3 col0\" >1800.00</td>\n",
       "                        <td id=\"T_f2809870_3722_11ec_a0b6_10ddb1e0a5bcrow3_col1\" class=\"data row3 col1\" >4702.23</td>\n",
       "                        <td id=\"T_f2809870_3722_11ec_a0b6_10ddb1e0a5bcrow3_col2\" class=\"data row3 col2\" >38.28%</td>\n",
       "            </tr>\n",
       "            <tr>\n",
       "                        <th id=\"T_f2809870_3722_11ec_a0b6_10ddb1e0a5bclevel0_row4\" class=\"row_heading level0 row4\" >Lesotho</th>\n",
       "                        <td id=\"T_f2809870_3722_11ec_a0b6_10ddb1e0a5bcrow4_col0\" class=\"data row4 col0\" >800.00</td>\n",
       "                        <td id=\"T_f2809870_3722_11ec_a0b6_10ddb1e0a5bcrow4_col1\" class=\"data row4 col1\" >2091.53</td>\n",
       "                        <td id=\"T_f2809870_3722_11ec_a0b6_10ddb1e0a5bcrow4_col2\" class=\"data row4 col2\" >38.25%</td>\n",
       "            </tr>\n",
       "            <tr>\n",
       "                        <th id=\"T_f2809870_3722_11ec_a0b6_10ddb1e0a5bclevel0_row5\" class=\"row_heading level0 row5\" >Tchad</th>\n",
       "                        <td id=\"T_f2809870_3722_11ec_a0b6_10ddb1e0a5bcrow5_col0\" class=\"data row5 col0\" >5700.00</td>\n",
       "                        <td id=\"T_f2809870_3722_11ec_a0b6_10ddb1e0a5bcrow5_col1\" class=\"data row5 col1\" >15016.75</td>\n",
       "                        <td id=\"T_f2809870_3722_11ec_a0b6_10ddb1e0a5bcrow5_col2\" class=\"data row5 col2\" >37.96%</td>\n",
       "            </tr>\n",
       "            <tr>\n",
       "                        <th id=\"T_f2809870_3722_11ec_a0b6_10ddb1e0a5bclevel0_row6\" class=\"row_heading level0 row6\" >Rwanda</th>\n",
       "                        <td id=\"T_f2809870_3722_11ec_a0b6_10ddb1e0a5bcrow6_col0\" class=\"data row6 col0\" >4200.00</td>\n",
       "                        <td id=\"T_f2809870_3722_11ec_a0b6_10ddb1e0a5bcrow6_col1\" class=\"data row6 col1\" >11980.96</td>\n",
       "                        <td id=\"T_f2809870_3722_11ec_a0b6_10ddb1e0a5bcrow6_col2\" class=\"data row6 col2\" >35.06%</td>\n",
       "            </tr>\n",
       "            <tr>\n",
       "                        <th id=\"T_f2809870_3722_11ec_a0b6_10ddb1e0a5bclevel0_row7\" class=\"row_heading level0 row7\" >Mozambique</th>\n",
       "                        <td id=\"T_f2809870_3722_11ec_a0b6_10ddb1e0a5bcrow7_col0\" class=\"data row7 col0\" >9400.00</td>\n",
       "                        <td id=\"T_f2809870_3722_11ec_a0b6_10ddb1e0a5bcrow7_col1\" class=\"data row7 col1\" >28649.02</td>\n",
       "                        <td id=\"T_f2809870_3722_11ec_a0b6_10ddb1e0a5bcrow7_col2\" class=\"data row7 col2\" >32.81%</td>\n",
       "            </tr>\n",
       "            <tr>\n",
       "                        <th id=\"T_f2809870_3722_11ec_a0b6_10ddb1e0a5bclevel0_row8\" class=\"row_heading level0 row8\" >Timor-Leste</th>\n",
       "                        <td id=\"T_f2809870_3722_11ec_a0b6_10ddb1e0a5bcrow8_col0\" class=\"data row8 col0\" >400.00</td>\n",
       "                        <td id=\"T_f2809870_3722_11ec_a0b6_10ddb1e0a5bcrow8_col1\" class=\"data row8 col1\" >1243.26</td>\n",
       "                        <td id=\"T_f2809870_3722_11ec_a0b6_10ddb1e0a5bcrow8_col2\" class=\"data row8 col2\" >32.17%</td>\n",
       "            </tr>\n",
       "            <tr>\n",
       "                        <th id=\"T_f2809870_3722_11ec_a0b6_10ddb1e0a5bclevel0_row9\" class=\"row_heading level0 row9\" >Afghanistan</th>\n",
       "                        <td id=\"T_f2809870_3722_11ec_a0b6_10ddb1e0a5bcrow9_col0\" class=\"data row9 col0\" >10500.00</td>\n",
       "                        <td id=\"T_f2809870_3722_11ec_a0b6_10ddb1e0a5bcrow9_col1\" class=\"data row9 col1\" >36296.11</td>\n",
       "                        <td id=\"T_f2809870_3722_11ec_a0b6_10ddb1e0a5bcrow9_col2\" class=\"data row9 col2\" >28.93%</td>\n",
       "            </tr>\n",
       "    </tbody></table>"
      ],
      "text/plain": [
       "<pandas.io.formats.style.Styler at 0x119a29880>"
      ]
     },
     "metadata": {},
     "output_type": "display_data"
    }
   ],
   "source": [
    "prop_sous_nutr=pd.merge(sous_nutrition_2017, population_2017, how='left', on='Zone')\n",
    "prop_sous_nutr.rename(columns={'Valeur_x': 'Personnes en sous-nutrition', 'Valeur_y': 'Population'}, inplace=True)\n",
    "prop_sous_nutr.set_index('Zone', inplace=True)\n",
    "prop_sous_nutr['Proportion']=prop_sous_nutr['Personnes en sous-nutrition']/prop_sous_nutr['Population']\n",
    "prop_sous_nutr_top10=prop_sous_nutr.sort_values(by='Proportion', ascending=False).head(10)\n",
    "display(prop_sous_nutr_top10.style.format({'Personnes en sous-nutrition': \"{:.2f}\", \n",
    "                                           'Population': \"{:.2f}\",\n",
    "                                           'Proportion': \"{:.2%}\"}))"
   ]
  },
  {
   "cell_type": "markdown",
   "metadata": {},
   "source": [
    "### Question N°3 : Quels sont les pays ayant les plus grands nombres de personnes sous-alimentées en 2017"
   ]
  },
  {
   "cell_type": "code",
   "execution_count": 38,
   "metadata": {},
   "outputs": [
    {
     "data": {
      "text/html": [
       "<div>\n",
       "<style scoped>\n",
       "    .dataframe tbody tr th:only-of-type {\n",
       "        vertical-align: middle;\n",
       "    }\n",
       "\n",
       "    .dataframe tbody tr th {\n",
       "        vertical-align: top;\n",
       "    }\n",
       "\n",
       "    .dataframe thead th {\n",
       "        text-align: right;\n",
       "    }\n",
       "</style>\n",
       "<table border=\"1\" class=\"dataframe\">\n",
       "  <thead>\n",
       "    <tr style=\"text-align: right;\">\n",
       "      <th></th>\n",
       "      <th>Zone</th>\n",
       "      <th>Valeur</th>\n",
       "    </tr>\n",
       "  </thead>\n",
       "  <tbody>\n",
       "    <tr>\n",
       "      <th>508</th>\n",
       "      <td>Inde</td>\n",
       "      <td>190100.0</td>\n",
       "    </tr>\n",
       "    <tr>\n",
       "      <th>820</th>\n",
       "      <td>Pakistan</td>\n",
       "      <td>24800.0</td>\n",
       "    </tr>\n",
       "    <tr>\n",
       "      <th>514</th>\n",
       "      <td>Indonésie</td>\n",
       "      <td>23600.0</td>\n",
       "    </tr>\n",
       "    <tr>\n",
       "      <th>772</th>\n",
       "      <td>Nigéria</td>\n",
       "      <td>22800.0</td>\n",
       "    </tr>\n",
       "    <tr>\n",
       "      <th>100</th>\n",
       "      <td>Bangladesh</td>\n",
       "      <td>21500.0</td>\n",
       "    </tr>\n",
       "    <tr>\n",
       "      <th>370</th>\n",
       "      <td>Éthiopie</td>\n",
       "      <td>21100.0</td>\n",
       "    </tr>\n",
       "    <tr>\n",
       "      <th>868</th>\n",
       "      <td>Philippines</td>\n",
       "      <td>15700.0</td>\n",
       "    </tr>\n",
       "    <tr>\n",
       "      <th>952</th>\n",
       "      <td>République-Unie de Tanzanie</td>\n",
       "      <td>13400.0</td>\n",
       "    </tr>\n",
       "    <tr>\n",
       "      <th>946</th>\n",
       "      <td>République populaire démocratique de Corée</td>\n",
       "      <td>12000.0</td>\n",
       "    </tr>\n",
       "    <tr>\n",
       "      <th>580</th>\n",
       "      <td>Kenya</td>\n",
       "      <td>11900.0</td>\n",
       "    </tr>\n",
       "  </tbody>\n",
       "</table>\n",
       "</div>"
      ],
      "text/plain": [
       "                                           Zone    Valeur\n",
       "508                                        Inde  190100.0\n",
       "820                                    Pakistan   24800.0\n",
       "514                                   Indonésie   23600.0\n",
       "772                                     Nigéria   22800.0\n",
       "100                                  Bangladesh   21500.0\n",
       "370                                    Éthiopie   21100.0\n",
       "868                                 Philippines   15700.0\n",
       "952                 République-Unie de Tanzanie   13400.0\n",
       "946  République populaire démocratique de Corée   12000.0\n",
       "580                                       Kenya   11900.0"
      ]
     },
     "execution_count": 38,
     "metadata": {},
     "output_type": "execute_result"
    }
   ],
   "source": [
    "sous_nutrition_2017.sort_values(by='Valeur', ascending=False).head(10)"
   ]
  },
  {
   "cell_type": "markdown",
   "metadata": {},
   "source": [
    "## Question N°4 : Les pays ayant le moins/le plus de disponibilité/habitant (2013)"
   ]
  },
  {
   "cell_type": "markdown",
   "metadata": {},
   "source": [
    "Disponibilité alimentaire (Kcal/personne/jour)"
   ]
  },
  {
   "cell_type": "code",
   "execution_count": 39,
   "metadata": {},
   "outputs": [
    {
     "data": {
      "text/html": [
       "<div>\n",
       "<style scoped>\n",
       "    .dataframe tbody tr th:only-of-type {\n",
       "        vertical-align: middle;\n",
       "    }\n",
       "\n",
       "    .dataframe tbody tr th {\n",
       "        vertical-align: top;\n",
       "    }\n",
       "\n",
       "    .dataframe thead th {\n",
       "        text-align: right;\n",
       "    }\n",
       "</style>\n",
       "<table border=\"1\" class=\"dataframe\">\n",
       "  <thead>\n",
       "    <tr style=\"text-align: right;\">\n",
       "      <th></th>\n",
       "      <th>Disponibilité alimentaire (Kcal/personne/jour)</th>\n",
       "    </tr>\n",
       "    <tr>\n",
       "      <th>Zone</th>\n",
       "      <th></th>\n",
       "    </tr>\n",
       "  </thead>\n",
       "  <tbody>\n",
       "    <tr>\n",
       "      <th>République centrafricaine</th>\n",
       "      <td>1879.0</td>\n",
       "    </tr>\n",
       "    <tr>\n",
       "      <th>Zambie</th>\n",
       "      <td>1924.0</td>\n",
       "    </tr>\n",
       "    <tr>\n",
       "      <th>Madagascar</th>\n",
       "      <td>2056.0</td>\n",
       "    </tr>\n",
       "    <tr>\n",
       "      <th>Afghanistan</th>\n",
       "      <td>2087.0</td>\n",
       "    </tr>\n",
       "    <tr>\n",
       "      <th>Haïti</th>\n",
       "      <td>2089.0</td>\n",
       "    </tr>\n",
       "    <tr>\n",
       "      <th>République populaire démocratique de Corée</th>\n",
       "      <td>2093.0</td>\n",
       "    </tr>\n",
       "    <tr>\n",
       "      <th>Tchad</th>\n",
       "      <td>2109.0</td>\n",
       "    </tr>\n",
       "    <tr>\n",
       "      <th>Zimbabwe</th>\n",
       "      <td>2113.0</td>\n",
       "    </tr>\n",
       "    <tr>\n",
       "      <th>Ouganda</th>\n",
       "      <td>2126.0</td>\n",
       "    </tr>\n",
       "    <tr>\n",
       "      <th>Timor-Leste</th>\n",
       "      <td>2129.0</td>\n",
       "    </tr>\n",
       "  </tbody>\n",
       "</table>\n",
       "</div>"
      ],
      "text/plain": [
       "                                            Disponibilité alimentaire (Kcal/personne/jour)\n",
       "Zone                                                                                      \n",
       "République centrafricaine                                                           1879.0\n",
       "Zambie                                                                              1924.0\n",
       "Madagascar                                                                          2056.0\n",
       "Afghanistan                                                                         2087.0\n",
       "Haïti                                                                               2089.0\n",
       "République populaire démocratique de Corée                                          2093.0\n",
       "Tchad                                                                               2109.0\n",
       "Zimbabwe                                                                            2113.0\n",
       "Ouganda                                                                             2126.0\n",
       "Timor-Leste                                                                         2129.0"
      ]
     },
     "execution_count": 39,
     "metadata": {},
     "output_type": "execute_result"
    }
   ],
   "source": [
    "pivot_dispo_alimentaire=dispo_alimentaire.pivot_table('Disponibilité alimentaire (Kcal/personne/jour)',\n",
    "                                                      index='Zone',\n",
    "                                                      aggfunc='sum')\n",
    "pivot_dispo_alimentaire.sort_values(['Disponibilité alimentaire (Kcal/personne/jour)'], ascending=True).head(10)"
   ]
  },
  {
   "cell_type": "code",
   "execution_count": 40,
   "metadata": {},
   "outputs": [
    {
     "data": {
      "text/html": [
       "<div>\n",
       "<style scoped>\n",
       "    .dataframe tbody tr th:only-of-type {\n",
       "        vertical-align: middle;\n",
       "    }\n",
       "\n",
       "    .dataframe tbody tr th {\n",
       "        vertical-align: top;\n",
       "    }\n",
       "\n",
       "    .dataframe thead th {\n",
       "        text-align: right;\n",
       "    }\n",
       "</style>\n",
       "<table border=\"1\" class=\"dataframe\">\n",
       "  <thead>\n",
       "    <tr style=\"text-align: right;\">\n",
       "      <th></th>\n",
       "      <th>Disponibilité alimentaire (Kcal/personne/jour)</th>\n",
       "    </tr>\n",
       "    <tr>\n",
       "      <th>Zone</th>\n",
       "      <th></th>\n",
       "    </tr>\n",
       "  </thead>\n",
       "  <tbody>\n",
       "    <tr>\n",
       "      <th>Autriche</th>\n",
       "      <td>3770.0</td>\n",
       "    </tr>\n",
       "    <tr>\n",
       "      <th>Belgique</th>\n",
       "      <td>3737.0</td>\n",
       "    </tr>\n",
       "    <tr>\n",
       "      <th>Turquie</th>\n",
       "      <td>3707.0</td>\n",
       "    </tr>\n",
       "    <tr>\n",
       "      <th>États-Unis d'Amérique</th>\n",
       "      <td>3682.0</td>\n",
       "    </tr>\n",
       "    <tr>\n",
       "      <th>Israël</th>\n",
       "      <td>3593.0</td>\n",
       "    </tr>\n",
       "    <tr>\n",
       "      <th>Italie</th>\n",
       "      <td>3578.0</td>\n",
       "    </tr>\n",
       "    <tr>\n",
       "      <th>Irlande</th>\n",
       "      <td>3543.0</td>\n",
       "    </tr>\n",
       "    <tr>\n",
       "      <th>Luxembourg</th>\n",
       "      <td>3537.0</td>\n",
       "    </tr>\n",
       "    <tr>\n",
       "      <th>Égypte</th>\n",
       "      <td>3518.0</td>\n",
       "    </tr>\n",
       "    <tr>\n",
       "      <th>Allemagne</th>\n",
       "      <td>3503.0</td>\n",
       "    </tr>\n",
       "  </tbody>\n",
       "</table>\n",
       "</div>"
      ],
      "text/plain": [
       "                       Disponibilité alimentaire (Kcal/personne/jour)\n",
       "Zone                                                                 \n",
       "Autriche                                                       3770.0\n",
       "Belgique                                                       3737.0\n",
       "Turquie                                                        3707.0\n",
       "États-Unis d'Amérique                                          3682.0\n",
       "Israël                                                         3593.0\n",
       "Italie                                                         3578.0\n",
       "Irlande                                                        3543.0\n",
       "Luxembourg                                                     3537.0\n",
       "Égypte                                                         3518.0\n",
       "Allemagne                                                      3503.0"
      ]
     },
     "execution_count": 40,
     "metadata": {},
     "output_type": "execute_result"
    }
   ],
   "source": [
    "pivot_dispo_alimentaire.sort_values(['Disponibilité alimentaire (Kcal/personne/jour)'], ascending=False).head(10)"
   ]
  },
  {
   "cell_type": "code",
   "execution_count": 41,
   "metadata": {},
   "outputs": [
    {
     "data": {
      "image/png": "[encoded data removed]",
      "text/plain": [
       "<Figure size 432x288 with 1 Axes>"
      ]
     },
     "metadata": {},
     "output_type": "display_data"
    }
   ],
   "source": [
    "sns.set()\n",
    "kal=sns.histplot(pivot_dispo_alimentaire, kde=True)\n",
    "plt.title('Distribution de disponibilité alimentaire (kcal/personne/jour) par pays')\n",
    "kal.set(ylabel = 'nombre de pays')\n",
    "plt.show()"
   ]
  },
  {
   "cell_type": "markdown",
   "metadata": {},
   "source": [
    "## Disponibilité de protéines en quantité (g/personne/jour)"
   ]
  },
  {
   "cell_type": "code",
   "execution_count": 42,
   "metadata": {},
   "outputs": [
    {
     "data": {
      "text/html": [
       "<div>\n",
       "<style scoped>\n",
       "    .dataframe tbody tr th:only-of-type {\n",
       "        vertical-align: middle;\n",
       "    }\n",
       "\n",
       "    .dataframe tbody tr th {\n",
       "        vertical-align: top;\n",
       "    }\n",
       "\n",
       "    .dataframe thead th {\n",
       "        text-align: right;\n",
       "    }\n",
       "</style>\n",
       "<table border=\"1\" class=\"dataframe\">\n",
       "  <thead>\n",
       "    <tr style=\"text-align: right;\">\n",
       "      <th>Origine</th>\n",
       "      <th>animale</th>\n",
       "      <th>vegetale</th>\n",
       "      <th>All</th>\n",
       "    </tr>\n",
       "    <tr>\n",
       "      <th>Zone</th>\n",
       "      <th></th>\n",
       "      <th></th>\n",
       "      <th></th>\n",
       "    </tr>\n",
       "  </thead>\n",
       "  <tbody>\n",
       "    <tr>\n",
       "      <th>Libéria</th>\n",
       "      <td>8.14</td>\n",
       "      <td>29.52</td>\n",
       "      <td>37.66</td>\n",
       "    </tr>\n",
       "    <tr>\n",
       "      <th>Guinée-Bissau</th>\n",
       "      <td>8.90</td>\n",
       "      <td>35.15</td>\n",
       "      <td>44.05</td>\n",
       "    </tr>\n",
       "    <tr>\n",
       "      <th>Mozambique</th>\n",
       "      <td>6.34</td>\n",
       "      <td>39.34</td>\n",
       "      <td>45.68</td>\n",
       "    </tr>\n",
       "    <tr>\n",
       "      <th>République centrafricaine</th>\n",
       "      <td>17.12</td>\n",
       "      <td>28.92</td>\n",
       "      <td>46.04</td>\n",
       "    </tr>\n",
       "    <tr>\n",
       "      <th>Madagascar</th>\n",
       "      <td>10.03</td>\n",
       "      <td>36.66</td>\n",
       "      <td>46.69</td>\n",
       "    </tr>\n",
       "    <tr>\n",
       "      <th>Haïti</th>\n",
       "      <td>10.15</td>\n",
       "      <td>37.55</td>\n",
       "      <td>47.70</td>\n",
       "    </tr>\n",
       "    <tr>\n",
       "      <th>Zimbabwe</th>\n",
       "      <td>11.76</td>\n",
       "      <td>36.56</td>\n",
       "      <td>48.32</td>\n",
       "    </tr>\n",
       "    <tr>\n",
       "      <th>Congo</th>\n",
       "      <td>22.24</td>\n",
       "      <td>29.17</td>\n",
       "      <td>51.41</td>\n",
       "    </tr>\n",
       "    <tr>\n",
       "      <th>Ouganda</th>\n",
       "      <td>12.38</td>\n",
       "      <td>40.26</td>\n",
       "      <td>52.64</td>\n",
       "    </tr>\n",
       "    <tr>\n",
       "      <th>Sao Tomé-et-Principe</th>\n",
       "      <td>15.90</td>\n",
       "      <td>37.20</td>\n",
       "      <td>53.10</td>\n",
       "    </tr>\n",
       "  </tbody>\n",
       "</table>\n",
       "</div>"
      ],
      "text/plain": [
       "Origine                    animale  vegetale    All\n",
       "Zone                                               \n",
       "Libéria                       8.14     29.52  37.66\n",
       "Guinée-Bissau                 8.90     35.15  44.05\n",
       "Mozambique                    6.34     39.34  45.68\n",
       "République centrafricaine    17.12     28.92  46.04\n",
       "Madagascar                   10.03     36.66  46.69\n",
       "Haïti                        10.15     37.55  47.70\n",
       "Zimbabwe                     11.76     36.56  48.32\n",
       "Congo                        22.24     29.17  51.41\n",
       "Ouganda                      12.38     40.26  52.64\n",
       "Sao Tomé-et-Principe         15.90     37.20  53.10"
      ]
     },
     "execution_count": 42,
     "metadata": {},
     "output_type": "execute_result"
    }
   ],
   "source": [
    "pivot_prot_dispo_alimentaire=dispo_alimentaire.pivot_table('Disponibilité de protéines en quantité (g/personne/jour)',\n",
    "                                                           index='Zone',\n",
    "                                                           columns='Origine',\n",
    "                                                           aggfunc='sum',\n",
    "                                                           margins=True)\n",
    "pivot_prot_dispo_alimentaire.drop(index='All', inplace=True)\n",
    "pivot_prot_dispo_alimentaire.sort_values(['All'], ascending=True).head(10)\n"
   ]
  },
  {
   "cell_type": "code",
   "execution_count": 43,
   "metadata": {},
   "outputs": [
    {
     "data": {
      "text/html": [
       "<div>\n",
       "<style scoped>\n",
       "    .dataframe tbody tr th:only-of-type {\n",
       "        vertical-align: middle;\n",
       "    }\n",
       "\n",
       "    .dataframe tbody tr th {\n",
       "        vertical-align: top;\n",
       "    }\n",
       "\n",
       "    .dataframe thead th {\n",
       "        text-align: right;\n",
       "    }\n",
       "</style>\n",
       "<table border=\"1\" class=\"dataframe\">\n",
       "  <thead>\n",
       "    <tr style=\"text-align: right;\">\n",
       "      <th>Origine</th>\n",
       "      <th>animale</th>\n",
       "      <th>vegetale</th>\n",
       "      <th>All</th>\n",
       "    </tr>\n",
       "    <tr>\n",
       "      <th>Zone</th>\n",
       "      <th></th>\n",
       "      <th></th>\n",
       "      <th></th>\n",
       "    </tr>\n",
       "  </thead>\n",
       "  <tbody>\n",
       "    <tr>\n",
       "      <th>Islande</th>\n",
       "      <td>96.48</td>\n",
       "      <td>36.58</td>\n",
       "      <td>133.06</td>\n",
       "    </tr>\n",
       "    <tr>\n",
       "      <th>Chine - RAS de Hong-Kong</th>\n",
       "      <td>94.40</td>\n",
       "      <td>34.67</td>\n",
       "      <td>129.07</td>\n",
       "    </tr>\n",
       "    <tr>\n",
       "      <th>Israël</th>\n",
       "      <td>72.46</td>\n",
       "      <td>55.54</td>\n",
       "      <td>128.00</td>\n",
       "    </tr>\n",
       "    <tr>\n",
       "      <th>Lituanie</th>\n",
       "      <td>76.49</td>\n",
       "      <td>47.87</td>\n",
       "      <td>124.36</td>\n",
       "    </tr>\n",
       "    <tr>\n",
       "      <th>Maldives</th>\n",
       "      <td>85.97</td>\n",
       "      <td>36.35</td>\n",
       "      <td>122.32</td>\n",
       "    </tr>\n",
       "    <tr>\n",
       "      <th>Finlande</th>\n",
       "      <td>73.03</td>\n",
       "      <td>44.53</td>\n",
       "      <td>117.56</td>\n",
       "    </tr>\n",
       "    <tr>\n",
       "      <th>Luxembourg</th>\n",
       "      <td>72.12</td>\n",
       "      <td>41.47</td>\n",
       "      <td>113.59</td>\n",
       "    </tr>\n",
       "    <tr>\n",
       "      <th>Monténégro</th>\n",
       "      <td>63.11</td>\n",
       "      <td>48.79</td>\n",
       "      <td>111.90</td>\n",
       "    </tr>\n",
       "    <tr>\n",
       "      <th>Pays-Bas</th>\n",
       "      <td>75.76</td>\n",
       "      <td>35.70</td>\n",
       "      <td>111.46</td>\n",
       "    </tr>\n",
       "    <tr>\n",
       "      <th>Albanie</th>\n",
       "      <td>59.41</td>\n",
       "      <td>51.96</td>\n",
       "      <td>111.37</td>\n",
       "    </tr>\n",
       "  </tbody>\n",
       "</table>\n",
       "</div>"
      ],
      "text/plain": [
       "Origine                   animale  vegetale     All\n",
       "Zone                                               \n",
       "Islande                     96.48     36.58  133.06\n",
       "Chine - RAS de Hong-Kong    94.40     34.67  129.07\n",
       "Israël                      72.46     55.54  128.00\n",
       "Lituanie                    76.49     47.87  124.36\n",
       "Maldives                    85.97     36.35  122.32\n",
       "Finlande                    73.03     44.53  117.56\n",
       "Luxembourg                  72.12     41.47  113.59\n",
       "Monténégro                  63.11     48.79  111.90\n",
       "Pays-Bas                    75.76     35.70  111.46\n",
       "Albanie                     59.41     51.96  111.37"
      ]
     },
     "execution_count": 43,
     "metadata": {},
     "output_type": "execute_result"
    }
   ],
   "source": [
    "pivot_prot_dispo_alimentaire.sort_values(['All'], ascending=False).head(10)"
   ]
  },
  {
   "cell_type": "code",
   "execution_count": 44,
   "metadata": {},
   "outputs": [
    {
     "data": {
      "image/png": "[encoded data removed]",
      "text/plain": [
       "<Figure size 432x288 with 1 Axes>"
      ]
     },
     "metadata": {},
     "output_type": "display_data"
    }
   ],
   "source": [
    "fig, ax = plt.subplots()\n",
    "ax.boxplot([pivot_prot_dispo_alimentaire['vegetale'], pivot_prot_dispo_alimentaire['animale']])\n",
    "ax.set_xticklabels(['Vegetale', 'Animale'])\n",
    "plt.title('Distribution de protéines vegetales et animales par pays')\n",
    "plt.show()"
   ]
  },
  {
   "cell_type": "code",
   "execution_count": 45,
   "metadata": {},
   "outputs": [
    {
     "data": {
      "image/png": "[encoded data removed]",
      "text/plain": [
       "<Figure size 432x288 with 1 Axes>"
      ]
     },
     "metadata": {},
     "output_type": "display_data"
    }
   ],
   "source": [
    "prot=sns.histplot(pivot_prot_dispo_alimentaire, kde=True)\n",
    "\n",
    "plt.title('Distribution de protéines par pays')\n",
    "prot.set(xlabel='g/personne/jour', ylabel = 'nombre de pays')\n",
    "# plt.savefig('dispo_prot.png', transparent=True)\n",
    "plt.show()"
   ]
  },
  {
   "cell_type": "markdown",
   "metadata": {},
   "source": [
    "La distribution des protéines vegetales est plutot normale. Les pays les plus pauvres ne possèdent pas beaucoup moins des protéines vegetales que les pays riches. La situation est différente pour les protéines animales. Les pays riches se démarquent des autres"
   ]
  },
  {
   "cell_type": "markdown",
   "metadata": {},
   "source": [
    "## Disponibilité de matière grasse en quantité (g/personne/jour)¶"
   ]
  },
  {
   "cell_type": "code",
   "execution_count": 46,
   "metadata": {},
   "outputs": [
    {
     "data": {
      "text/html": [
       "<div>\n",
       "<style scoped>\n",
       "    .dataframe tbody tr th:only-of-type {\n",
       "        vertical-align: middle;\n",
       "    }\n",
       "\n",
       "    .dataframe tbody tr th {\n",
       "        vertical-align: top;\n",
       "    }\n",
       "\n",
       "    .dataframe thead th {\n",
       "        text-align: right;\n",
       "    }\n",
       "</style>\n",
       "<table border=\"1\" class=\"dataframe\">\n",
       "  <thead>\n",
       "    <tr style=\"text-align: right;\">\n",
       "      <th>Origine</th>\n",
       "      <th>animale</th>\n",
       "      <th>vegetale</th>\n",
       "      <th>All</th>\n",
       "    </tr>\n",
       "    <tr>\n",
       "      <th>Zone</th>\n",
       "      <th></th>\n",
       "      <th></th>\n",
       "      <th></th>\n",
       "    </tr>\n",
       "  </thead>\n",
       "  <tbody>\n",
       "    <tr>\n",
       "      <th>Autriche</th>\n",
       "      <td>92.46</td>\n",
       "      <td>77.98</td>\n",
       "      <td>170.44</td>\n",
       "    </tr>\n",
       "    <tr>\n",
       "      <th>Belgique</th>\n",
       "      <td>94.15</td>\n",
       "      <td>67.80</td>\n",
       "      <td>161.95</td>\n",
       "    </tr>\n",
       "    <tr>\n",
       "      <th>États-Unis d'Amérique</th>\n",
       "      <td>67.69</td>\n",
       "      <td>93.66</td>\n",
       "      <td>161.35</td>\n",
       "    </tr>\n",
       "    <tr>\n",
       "      <th>France</th>\n",
       "      <td>93.82</td>\n",
       "      <td>65.33</td>\n",
       "      <td>159.15</td>\n",
       "    </tr>\n",
       "    <tr>\n",
       "      <th>Italie</th>\n",
       "      <td>68.33</td>\n",
       "      <td>86.36</td>\n",
       "      <td>154.69</td>\n",
       "    </tr>\n",
       "    <tr>\n",
       "      <th>Suisse</th>\n",
       "      <td>89.70</td>\n",
       "      <td>63.65</td>\n",
       "      <td>153.35</td>\n",
       "    </tr>\n",
       "    <tr>\n",
       "      <th>Israël</th>\n",
       "      <td>49.65</td>\n",
       "      <td>101.74</td>\n",
       "      <td>151.39</td>\n",
       "    </tr>\n",
       "    <tr>\n",
       "      <th>Islande</th>\n",
       "      <td>105.50</td>\n",
       "      <td>45.85</td>\n",
       "      <td>151.35</td>\n",
       "    </tr>\n",
       "    <tr>\n",
       "      <th>Australie</th>\n",
       "      <td>74.35</td>\n",
       "      <td>76.46</td>\n",
       "      <td>150.81</td>\n",
       "    </tr>\n",
       "    <tr>\n",
       "      <th>Norvège</th>\n",
       "      <td>84.07</td>\n",
       "      <td>64.89</td>\n",
       "      <td>148.96</td>\n",
       "    </tr>\n",
       "  </tbody>\n",
       "</table>\n",
       "</div>"
      ],
      "text/plain": [
       "Origine                animale  vegetale     All\n",
       "Zone                                            \n",
       "Autriche                 92.46     77.98  170.44\n",
       "Belgique                 94.15     67.80  161.95\n",
       "États-Unis d'Amérique    67.69     93.66  161.35\n",
       "France                   93.82     65.33  159.15\n",
       "Italie                   68.33     86.36  154.69\n",
       "Suisse                   89.70     63.65  153.35\n",
       "Israël                   49.65    101.74  151.39\n",
       "Islande                 105.50     45.85  151.35\n",
       "Australie                74.35     76.46  150.81\n",
       "Norvège                  84.07     64.89  148.96"
      ]
     },
     "execution_count": 46,
     "metadata": {},
     "output_type": "execute_result"
    }
   ],
   "source": [
    "pivot_gras_dispo_alimentaire=dispo_alimentaire.pivot_table('Disponibilité de matière grasse en quantité (g/personne/jour)',\n",
    "                                                           index='Zone',\n",
    "                                                           columns='Origine',\n",
    "                                                           aggfunc='sum',\n",
    "                                                           margins=True)\n",
    "pivot_gras_dispo_alimentaire.drop(index='All', inplace=True)\n",
    "pivot_gras_dispo_alimentaire.sort_values(['All'], ascending=False).head(10)"
   ]
  },
  {
   "cell_type": "code",
   "execution_count": 47,
   "metadata": {},
   "outputs": [
    {
     "data": {
      "text/html": [
       "<div>\n",
       "<style scoped>\n",
       "    .dataframe tbody tr th:only-of-type {\n",
       "        vertical-align: middle;\n",
       "    }\n",
       "\n",
       "    .dataframe tbody tr th {\n",
       "        vertical-align: top;\n",
       "    }\n",
       "\n",
       "    .dataframe thead th {\n",
       "        text-align: right;\n",
       "    }\n",
       "</style>\n",
       "<table border=\"1\" class=\"dataframe\">\n",
       "  <thead>\n",
       "    <tr style=\"text-align: right;\">\n",
       "      <th>Origine</th>\n",
       "      <th>animale</th>\n",
       "      <th>vegetale</th>\n",
       "      <th>All</th>\n",
       "    </tr>\n",
       "    <tr>\n",
       "      <th>Zone</th>\n",
       "      <th></th>\n",
       "      <th></th>\n",
       "      <th></th>\n",
       "    </tr>\n",
       "  </thead>\n",
       "  <tbody>\n",
       "    <tr>\n",
       "      <th>Rwanda</th>\n",
       "      <td>4.03</td>\n",
       "      <td>19.74</td>\n",
       "      <td>23.77</td>\n",
       "    </tr>\n",
       "    <tr>\n",
       "      <th>Madagascar</th>\n",
       "      <td>10.13</td>\n",
       "      <td>14.36</td>\n",
       "      <td>24.49</td>\n",
       "    </tr>\n",
       "    <tr>\n",
       "      <th>Éthiopie</th>\n",
       "      <td>8.01</td>\n",
       "      <td>17.88</td>\n",
       "      <td>25.89</td>\n",
       "    </tr>\n",
       "    <tr>\n",
       "      <th>Bangladesh</th>\n",
       "      <td>5.92</td>\n",
       "      <td>24.00</td>\n",
       "      <td>29.92</td>\n",
       "    </tr>\n",
       "    <tr>\n",
       "      <th>Lesotho</th>\n",
       "      <td>10.87</td>\n",
       "      <td>21.39</td>\n",
       "      <td>32.26</td>\n",
       "    </tr>\n",
       "    <tr>\n",
       "      <th>Afghanistan</th>\n",
       "      <td>15.23</td>\n",
       "      <td>18.27</td>\n",
       "      <td>33.50</td>\n",
       "    </tr>\n",
       "    <tr>\n",
       "      <th>Cambodge</th>\n",
       "      <td>13.74</td>\n",
       "      <td>22.19</td>\n",
       "      <td>35.93</td>\n",
       "    </tr>\n",
       "    <tr>\n",
       "      <th>République populaire démocratique de Corée</th>\n",
       "      <td>9.34</td>\n",
       "      <td>27.07</td>\n",
       "      <td>36.41</td>\n",
       "    </tr>\n",
       "    <tr>\n",
       "      <th>République démocratique populaire lao</th>\n",
       "      <td>16.88</td>\n",
       "      <td>21.98</td>\n",
       "      <td>38.86</td>\n",
       "    </tr>\n",
       "    <tr>\n",
       "      <th>Malawi</th>\n",
       "      <td>11.26</td>\n",
       "      <td>29.91</td>\n",
       "      <td>41.17</td>\n",
       "    </tr>\n",
       "  </tbody>\n",
       "</table>\n",
       "</div>"
      ],
      "text/plain": [
       "Origine                                     animale  vegetale    All\n",
       "Zone                                                                \n",
       "Rwanda                                         4.03     19.74  23.77\n",
       "Madagascar                                    10.13     14.36  24.49\n",
       "Éthiopie                                       8.01     17.88  25.89\n",
       "Bangladesh                                     5.92     24.00  29.92\n",
       "Lesotho                                       10.87     21.39  32.26\n",
       "Afghanistan                                   15.23     18.27  33.50\n",
       "Cambodge                                      13.74     22.19  35.93\n",
       "République populaire démocratique de Corée     9.34     27.07  36.41\n",
       "République démocratique populaire lao         16.88     21.98  38.86\n",
       "Malawi                                        11.26     29.91  41.17"
      ]
     },
     "execution_count": 47,
     "metadata": {},
     "output_type": "execute_result"
    }
   ],
   "source": [
    "pivot_gras_dispo_alimentaire.sort_values(['All'], ascending=True).head(10)"
   ]
  },
  {
   "cell_type": "code",
   "execution_count": 48,
   "metadata": {},
   "outputs": [
    {
     "data": {
      "image/png": "[encoded data removed]",
      "text/plain": [
       "<Figure size 432x288 with 1 Axes>"
      ]
     },
     "metadata": {},
     "output_type": "display_data"
    }
   ],
   "source": [
    "gras=sns.histplot(pivot_gras_dispo_alimentaire, kde=True)\n",
    "plt.title('Distribution de matière grasse par pays')\n",
    "gras.set(xlabel='g/personne/jour', ylabel = 'nombre de pays')\n",
    "plt.show()"
   ]
  },
  {
   "cell_type": "markdown",
   "metadata": {},
   "source": [
    "La situation avec des matières grasses ressemble à celle avec des protèines. La distribution des matières grasses vegetales est plutot normale. L'inégalité de la distribution des matières grasses animales est beaucoup plus perceptible"
   ]
  },
  {
   "cell_type": "markdown",
   "metadata": {},
   "source": [
    "## Question N°5 : Quels sont les pays avec des personnes en sous-nutrition qui exportent de grandes quantités de produits alimentaires (2013) "
   ]
  },
  {
   "cell_type": "code",
   "execution_count": 49,
   "metadata": {},
   "outputs": [],
   "source": [
    "# on choisit seulement les données concernant les pays où il y a des personnes en sous-nutrition \n",
    "\n",
    "sous_nutrition_2013=sous_nutrition[sous_nutrition['Année']==2013].drop(columns='Année')\n"
   ]
  },
  {
   "cell_type": "code",
   "execution_count": 50,
   "metadata": {},
   "outputs": [],
   "source": [
    "# on ajoute le nombre des personnes en sous-nutrition et la population\n",
    "disp_sous_nutr=pd.merge(pd.merge(sous_nutrition_2013, population_2013, how='left', on='Zone'),\n",
    "                        dispo_alimentaire, how='left', on='Zone').drop(columns=['Disponibilité alimentaire en quantité (kg/personne/an)',\n",
    "                                                                                'Disponibilité de matière grasse en quantité (g/personne/jour)',\n",
    "                                                                                'Disponibilité de protéines en quantité (g/personne/jour)']) \n",
    "disp_sous_nutr.rename(columns={'Valeur_x': 'Personnes en sous-nutrition', 'Valeur_y': 'Population'}, inplace=True)\n",
    "disp_sous_nutr.set_index('Zone', inplace=True)"
   ]
  },
  {
   "cell_type": "code",
   "execution_count": 51,
   "metadata": {},
   "outputs": [],
   "source": [
    "# on choisit la disponibilité alimentaire des produits principaux\n",
    "disp_sous_nutr=disp_sous_nutr[~disp_sous_nutr['Produit'].isin(['Sucre, canne', 'Sucre Eq Brut', 'Huile de Palme', 'Bière', 'Sucre, betterave', 'Graines de coton', 'Graines Colza/Moutarde', 'Huile de Soja', 'Sucre non centrifugé', 'Alcool, non Comestible', 'Boissons Alcooliques', 'Huile de Palmistes', 'Café', 'Beurre, Ghee', 'Vin', 'Épices, Autres', 'Feve de Cacao', 'Huile de Colza&Moutarde', 'Thé', 'Edulcorants Autres', 'Huile de Coco', 'Piments', 'Huile de Tournesol', 'Huile d\\'Arachide', 'Huile Graines de Coton', 'Huil Plantes Oleif Autr', 'Huile de Son de Riz', 'Huile de Sésame', 'Huiles de Poissons', 'Miel', 'Huile d\\'Olive', 'Poivre', 'Huile de Germe de Maïs', 'Crème', 'Girofles', 'Huiles de Foie de Poisso'])]"
   ]
  },
  {
   "cell_type": "code",
   "execution_count": 52,
   "metadata": {},
   "outputs": [],
   "source": [
    "# estimation des produit \n",
    "disp_sous_nutr=disp_sous_nutr[disp_sous_nutr['Production']!=0]"
   ]
  },
  {
   "cell_type": "code",
   "execution_count": 53,
   "metadata": {},
   "outputs": [],
   "source": [
    "# on va créer une nouvelle colonne avec la valeur énergétique pour mille tonnes "
   ]
  },
  {
   "cell_type": "code",
   "execution_count": 54,
   "metadata": {},
   "outputs": [],
   "source": [
    "# pour les tuples sans information sur la valeur énergétique on va mettre NaN pour l'instant (ensuite on les remplira avec les valeurs moyennes de chaque produit)\n",
    "disp_sous_nutr['Kcal dans mille tonnes'] = np.where((disp_sous_nutr['Disponibilité alimentaire (Kcal/personne/jour)']!= 0) & (disp_sous_nutr['Nourriture']!= 0), ((disp_sous_nutr['Population']*1000*365*disp_sous_nutr['Disponibilité alimentaire (Kcal/personne/jour)'])/disp_sous_nutr['Nourriture']), float('NAN'))"
   ]
  },
  {
   "cell_type": "code",
   "execution_count": 55,
   "metadata": {},
   "outputs": [],
   "source": [
    "# on remplit NaN avec les valeurs moyennes de chaque produit\n",
    "disp_sous_nutr=disp_sous_nutr.groupby('Produit').apply(lambda x : x.fillna(x.mean())).reset_index(level=0,drop=True).sort_index()"
   ]
  },
  {
   "cell_type": "code",
   "execution_count": 56,
   "metadata": {},
   "outputs": [],
   "source": [
    "# on va calculer combien de personnes le pays aurrait pu nourrir s'il n'avait pas exporté ce produit (les valeurs absolue et relative)\n",
    "disp_sous_nutr['№ Personnes on peut nourrir']=disp_sous_nutr['Kcal dans mille tonnes']*disp_sous_nutr['Production']/1000/2300/365\n",
    "disp_sous_nutr['Proportion de la population qu\\'on peut nourrir']=disp_sous_nutr['№ Personnes on peut nourrir']/disp_sous_nutr['Population']"
   ]
  },
  {
   "cell_type": "code",
   "execution_count": 57,
   "metadata": {},
   "outputs": [
    {
     "data": {
      "text/html": [
       "<div>\n",
       "<style scoped>\n",
       "    .dataframe tbody tr th:only-of-type {\n",
       "        vertical-align: middle;\n",
       "    }\n",
       "\n",
       "    .dataframe tbody tr th {\n",
       "        vertical-align: top;\n",
       "    }\n",
       "\n",
       "    .dataframe thead th {\n",
       "        text-align: right;\n",
       "    }\n",
       "</style>\n",
       "<table border=\"1\" class=\"dataframe\">\n",
       "  <thead>\n",
       "    <tr style=\"text-align: right;\">\n",
       "      <th></th>\n",
       "      <th>Personnes en sous-nutrition</th>\n",
       "      <th>Population</th>\n",
       "      <th>Produit</th>\n",
       "      <th>Exportations - Quantité</th>\n",
       "      <th>Nourriture</th>\n",
       "      <th>Traitement</th>\n",
       "      <th>Production</th>\n",
       "      <th>№ Personnes on peut nourrir</th>\n",
       "      <th>Proportion de la population qu'on peut nourrir</th>\n",
       "    </tr>\n",
       "    <tr>\n",
       "      <th>Zone</th>\n",
       "      <th></th>\n",
       "      <th></th>\n",
       "      <th></th>\n",
       "      <th></th>\n",
       "      <th></th>\n",
       "      <th></th>\n",
       "      <th></th>\n",
       "      <th></th>\n",
       "      <th></th>\n",
       "    </tr>\n",
       "  </thead>\n",
       "  <tbody>\n",
       "    <tr>\n",
       "      <th>Thaïlande</th>\n",
       "      <td>6200.0</td>\n",
       "      <td>68144.518</td>\n",
       "      <td>Manioc</td>\n",
       "      <td>25214.0</td>\n",
       "      <td>871.0</td>\n",
       "      <td>0.0</td>\n",
       "      <td>30228.0</td>\n",
       "      <td>41129.585985</td>\n",
       "      <td>0.603564</td>\n",
       "    </tr>\n",
       "    <tr>\n",
       "      <th>Argentine</th>\n",
       "      <td>1200.0</td>\n",
       "      <td>42196.030</td>\n",
       "      <td>Maïs</td>\n",
       "      <td>20241.0</td>\n",
       "      <td>433.0</td>\n",
       "      <td>464.0</td>\n",
       "      <td>32119.0</td>\n",
       "      <td>117035.152858</td>\n",
       "      <td>2.773606</td>\n",
       "    </tr>\n",
       "    <tr>\n",
       "      <th>Inde</th>\n",
       "      <td>203800.0</td>\n",
       "      <td>1280842.125</td>\n",
       "      <td>Riz (Eq Blanchi)</td>\n",
       "      <td>11337.0</td>\n",
       "      <td>87006.0</td>\n",
       "      <td>368.0</td>\n",
       "      <td>106186.0</td>\n",
       "      <td>468279.393020</td>\n",
       "      <td>0.365603</td>\n",
       "    </tr>\n",
       "    <tr>\n",
       "      <th>Viet Nam</th>\n",
       "      <td>8900.0</td>\n",
       "      <td>90752.592</td>\n",
       "      <td>Manioc</td>\n",
       "      <td>8973.0</td>\n",
       "      <td>742.0</td>\n",
       "      <td>0.0</td>\n",
       "      <td>9758.0</td>\n",
       "      <td>11415.916700</td>\n",
       "      <td>0.125792</td>\n",
       "    </tr>\n",
       "    <tr>\n",
       "      <th>Argentine</th>\n",
       "      <td>1200.0</td>\n",
       "      <td>42196.030</td>\n",
       "      <td>Soja</td>\n",
       "      <td>7783.0</td>\n",
       "      <td>0.0</td>\n",
       "      <td>34041.0</td>\n",
       "      <td>49306.0</td>\n",
       "      <td>204152.843372</td>\n",
       "      <td>4.838200</td>\n",
       "    </tr>\n",
       "    <tr>\n",
       "      <th>Kazakhstan</th>\n",
       "      <td>500.0</td>\n",
       "      <td>17026.117</td>\n",
       "      <td>Blé</td>\n",
       "      <td>7442.0</td>\n",
       "      <td>1518.0</td>\n",
       "      <td>161.0</td>\n",
       "      <td>13941.0</td>\n",
       "      <td>49152.796357</td>\n",
       "      <td>2.886906</td>\n",
       "    </tr>\n",
       "    <tr>\n",
       "      <th>Inde</th>\n",
       "      <td>203800.0</td>\n",
       "      <td>1280842.125</td>\n",
       "      <td>Blé</td>\n",
       "      <td>7168.0</td>\n",
       "      <td>75833.0</td>\n",
       "      <td>0.0</td>\n",
       "      <td>93510.0</td>\n",
       "      <td>355024.340414</td>\n",
       "      <td>0.277180</td>\n",
       "    </tr>\n",
       "    <tr>\n",
       "      <th>Viet Nam</th>\n",
       "      <td>8900.0</td>\n",
       "      <td>90752.592</td>\n",
       "      <td>Riz (Eq Blanchi)</td>\n",
       "      <td>6951.0</td>\n",
       "      <td>13253.0</td>\n",
       "      <td>362.0</td>\n",
       "      <td>29374.0</td>\n",
       "      <td>121561.176501</td>\n",
       "      <td>1.339479</td>\n",
       "    </tr>\n",
       "    <tr>\n",
       "      <th>Thaïlande</th>\n",
       "      <td>6200.0</td>\n",
       "      <td>68144.518</td>\n",
       "      <td>Riz (Eq Blanchi)</td>\n",
       "      <td>6860.0</td>\n",
       "      <td>7677.0</td>\n",
       "      <td>1130.0</td>\n",
       "      <td>24054.0</td>\n",
       "      <td>105735.927234</td>\n",
       "      <td>1.551642</td>\n",
       "    </tr>\n",
       "    <tr>\n",
       "      <th>Équateur</th>\n",
       "      <td>2300.0</td>\n",
       "      <td>15707.474</td>\n",
       "      <td>Bananes</td>\n",
       "      <td>5956.0</td>\n",
       "      <td>559.0</td>\n",
       "      <td>0.0</td>\n",
       "      <td>5996.0</td>\n",
       "      <td>4028.942036</td>\n",
       "      <td>0.256498</td>\n",
       "    </tr>\n",
       "  </tbody>\n",
       "</table>\n",
       "</div>"
      ],
      "text/plain": [
       "            Personnes en sous-nutrition   Population           Produit  \\\n",
       "Zone                                                                     \n",
       "Thaïlande                        6200.0    68144.518            Manioc   \n",
       "Argentine                        1200.0    42196.030              Maïs   \n",
       "Inde                           203800.0  1280842.125  Riz (Eq Blanchi)   \n",
       "Viet Nam                         8900.0    90752.592            Manioc   \n",
       "Argentine                        1200.0    42196.030              Soja   \n",
       "Kazakhstan                        500.0    17026.117               Blé   \n",
       "Inde                           203800.0  1280842.125               Blé   \n",
       "Viet Nam                         8900.0    90752.592  Riz (Eq Blanchi)   \n",
       "Thaïlande                        6200.0    68144.518  Riz (Eq Blanchi)   \n",
       "Équateur                         2300.0    15707.474           Bananes   \n",
       "\n",
       "            Exportations - Quantité  Nourriture  Traitement  Production  \\\n",
       "Zone                                                                      \n",
       "Thaïlande                   25214.0       871.0         0.0     30228.0   \n",
       "Argentine                   20241.0       433.0       464.0     32119.0   \n",
       "Inde                        11337.0     87006.0       368.0    106186.0   \n",
       "Viet Nam                     8973.0       742.0         0.0      9758.0   \n",
       "Argentine                    7783.0         0.0     34041.0     49306.0   \n",
       "Kazakhstan                   7442.0      1518.0       161.0     13941.0   \n",
       "Inde                         7168.0     75833.0         0.0     93510.0   \n",
       "Viet Nam                     6951.0     13253.0       362.0     29374.0   \n",
       "Thaïlande                    6860.0      7677.0      1130.0     24054.0   \n",
       "Équateur                     5956.0       559.0         0.0      5996.0   \n",
       "\n",
       "            № Personnes on peut nourrir  \\\n",
       "Zone                                      \n",
       "Thaïlande                  41129.585985   \n",
       "Argentine                 117035.152858   \n",
       "Inde                      468279.393020   \n",
       "Viet Nam                   11415.916700   \n",
       "Argentine                 204152.843372   \n",
       "Kazakhstan                 49152.796357   \n",
       "Inde                      355024.340414   \n",
       "Viet Nam                  121561.176501   \n",
       "Thaïlande                 105735.927234   \n",
       "Équateur                    4028.942036   \n",
       "\n",
       "            Proportion de la population qu'on peut nourrir  \n",
       "Zone                                                        \n",
       "Thaïlande                                         0.603564  \n",
       "Argentine                                         2.773606  \n",
       "Inde                                              0.365603  \n",
       "Viet Nam                                          0.125792  \n",
       "Argentine                                         4.838200  \n",
       "Kazakhstan                                        2.886906  \n",
       "Inde                                              0.277180  \n",
       "Viet Nam                                          1.339479  \n",
       "Thaïlande                                         1.551642  \n",
       "Équateur                                          0.256498  "
      ]
     },
     "execution_count": 57,
     "metadata": {},
     "output_type": "execute_result"
    }
   ],
   "source": [
    "# on prend top 10 pays avec la plus grande exportation\n",
    "disp_sous_nutr[['Personnes en sous-nutrition', 'Population', 'Produit', 'Exportations - Quantité', 'Nourriture', 'Traitement', 'Production', '№ Personnes on peut nourrir', 'Proportion de la population qu\\'on peut nourrir']].sort_values(['Exportations - Quantité'], ascending=False).head(10)\n"
   ]
  },
  {
   "cell_type": "markdown",
   "metadata": {},
   "source": [
    "Trois pays sont les plus remarquables : Thaïlande (dont on a déjà parlé), Argentine avec son production du Maïs et du Soja, Inde avec son production du Riz et du Blé. Seulement Manioc produit en Thaïlande pourrait nourrir 60% de la population de ce pays. Le Maïs et le Soja produits en Argentine pourraient nourrir 760% de la population de ce pays. Le Riz et le Blé produits en Inde pourraient nourrir 64% de la population de ce pays. Pourtant, l'Inde n'exporte que 10% de ces produits.\n",
    "\n",
    "Les chiffres du VietNam sont semblable à la Thaïlande. Ils exportent la plupart du Manioc produit qui pourrait nourrir les personnes en sous-nutrition de ce pays. Le Kazakhstan connait la même situation avec l'exportation du blé.\n"
   ]
  },
  {
   "cell_type": "markdown",
   "metadata": {},
   "source": [
    "## Question N°6 : La répartition des personnes en sous-nutrition par continent (2017)"
   ]
  },
  {
   "cell_type": "code",
   "execution_count": 58,
   "metadata": {},
   "outputs": [],
   "source": [
    "sous_nutr_cont=pd.merge(pd.merge(sous_nutrition_2017, population_2017,\n",
    "                                 how='right',\n",
    "                                 on='Zone'),\n",
    "                        continent,\n",
    "                        how='left', on='Zone')\n",
    "sous_nutr_cont.rename(columns={'Valeur_x': 'Personnes en sous-nutrition', 'Valeur_y': 'Population'}, \n",
    "                      inplace=True)\n",
    "sous_nutr_cont.set_index('Zone', inplace=True)\n",
    "sous_nutr_cont.fillna(0, inplace=True)"
   ]
  },
  {
   "cell_type": "code",
   "execution_count": 59,
   "metadata": {},
   "outputs": [
    {
     "data": {
      "text/html": [
       "<div>\n",
       "<style scoped>\n",
       "    .dataframe tbody tr th:only-of-type {\n",
       "        vertical-align: middle;\n",
       "    }\n",
       "\n",
       "    .dataframe tbody tr th {\n",
       "        vertical-align: top;\n",
       "    }\n",
       "\n",
       "    .dataframe thead th {\n",
       "        text-align: right;\n",
       "    }\n",
       "</style>\n",
       "<table border=\"1\" class=\"dataframe\">\n",
       "  <thead>\n",
       "    <tr style=\"text-align: right;\">\n",
       "      <th></th>\n",
       "      <th>Personnes en sous-nutrition</th>\n",
       "      <th>Proportion</th>\n",
       "    </tr>\n",
       "    <tr>\n",
       "      <th>Continent</th>\n",
       "      <th></th>\n",
       "      <th></th>\n",
       "    </tr>\n",
       "  </thead>\n",
       "  <tbody>\n",
       "    <tr>\n",
       "      <th>Afrique</th>\n",
       "      <td>148600.0</td>\n",
       "      <td>0.119432</td>\n",
       "    </tr>\n",
       "    <tr>\n",
       "      <th>Amériques</th>\n",
       "      <td>39600.0</td>\n",
       "      <td>0.039660</td>\n",
       "    </tr>\n",
       "    <tr>\n",
       "      <th>Asie</th>\n",
       "      <td>345000.0</td>\n",
       "      <td>0.076344</td>\n",
       "    </tr>\n",
       "    <tr>\n",
       "      <th>Europe</th>\n",
       "      <td>2500.0</td>\n",
       "      <td>0.003354</td>\n",
       "    </tr>\n",
       "    <tr>\n",
       "      <th>Océanie</th>\n",
       "      <td>0.0</td>\n",
       "      <td>0.000000</td>\n",
       "    </tr>\n",
       "  </tbody>\n",
       "</table>\n",
       "</div>"
      ],
      "text/plain": [
       "           Personnes en sous-nutrition  Proportion\n",
       "Continent                                         \n",
       "Afrique                       148600.0    0.119432\n",
       "Amériques                      39600.0    0.039660\n",
       "Asie                          345000.0    0.076344\n",
       "Europe                          2500.0    0.003354\n",
       "Océanie                            0.0    0.000000"
      ]
     },
     "execution_count": 59,
     "metadata": {},
     "output_type": "execute_result"
    }
   ],
   "source": [
    "sous_nutr_group=sous_nutr_cont.groupby('Continent').agg({'Personnes en sous-nutrition': np.sum, 'Population': np.sum})\n",
    "sous_nutr_group['Proportion']=sous_nutr_group['Personnes en sous-nutrition']/sous_nutr_group['Population']\n",
    "sous_nutr_group.drop(columns='Population', inplace=True)\n",
    "sous_nutr_group"
   ]
  },
  {
   "cell_type": "code",
   "execution_count": 60,
   "metadata": {},
   "outputs": [
    {
     "data": {
      "image/png": "[encoded data removed]",
      "text/plain": [
       "<Figure size 432x288 with 1 Axes>"
      ]
     },
     "metadata": {},
     "output_type": "display_data"
    }
   ],
   "source": [
    "fig, ax=plt.subplots()\n",
    "ax.bar([1,2,3,4,5], sous_nutr_group['Personnes en sous-nutrition'], tick_label=['Afrique', 'Amériques', 'Asie', 'Europe', 'Océanie'], color='#014263ff')\n",
    "scale_y = 1e3\n",
    "ticks_y = ticker.FuncFormatter(lambda x, pos: '{0:g}'.format(x/scale_y))\n",
    "ax.yaxis.set_major_formatter(ticks_y)\n",
    "ax.set_ylabel('millions d’habitants')\n",
    "plt.title('La répartition des personnes en sous-nutrition par continent (2017)')\n",
    "#plt.savefig('rep_pers_cont.png', transparent=True)\n",
    "plt.show()"
   ]
  },
  {
   "cell_type": "markdown",
   "metadata": {},
   "source": [
    "La plupart de personnes en état de sous-nutrition se trouvent en Asie.\n"
   ]
  },
  {
   "cell_type": "code",
   "execution_count": 61,
   "metadata": {},
   "outputs": [
    {
     "data": {
      "image/png": "[encoded data removed]",
      "text/plain": [
       "<Figure size 432x288 with 1 Axes>"
      ]
     },
     "metadata": {},
     "output_type": "display_data"
    }
   ],
   "source": [
    "fig, ax=plt.subplots()\n",
    "ax.bar([1,2,3,4,5], sous_nutr_group['Proportion'], tick_label=['Afrique', 'Amériques', 'Asie', 'Europe', 'Océanie'], color='#014263ff')\n",
    "ax.yaxis.set_major_formatter(ticker.PercentFormatter(1.0, decimals=0))\n",
    "plt.title('Proportion de personnes en état de sous-nutrition par continent (2017)')\n",
    "#plt.savefig('prop_cont.png', transparent=True, bbox_inches='tight')\n",
    "plt.show()"
   ]
  },
  {
   "cell_type": "markdown",
   "metadata": {},
   "source": [
    "La plupart de personnes en état de sous-nutrition se trouvent en Asie.\n"
   ]
  },
  {
   "cell_type": "code",
   "execution_count": 62,
   "metadata": {},
   "outputs": [
    {
     "data": {
      "image/png": "[encoded data removed]",
      "text/plain": [
       "<Figure size 432x288 with 1 Axes>"
      ]
     },
     "metadata": {},
     "output_type": "display_data"
    }
   ],
   "source": [
    "fig, ax=plt.subplots()\n",
    "ax.bar([1,2,3,4,5], sous_nutr_group['Proportion'], tick_label=['Afrique', 'Amériques', 'Asie', 'Europe', 'Océanie'], color='#014263ff')\n",
    "ax.yaxis.set_major_formatter(ticker.PercentFormatter(1.0, decimals=0))\n",
    "plt.title('Proportion de personnes en état de sous-nutrition par continent (2017)')\n",
    "#plt.savefig('prop_cont.png', transparent=True, bbox_inches='tight')\n",
    "plt.show()"
   ]
  },
  {
   "cell_type": "markdown",
   "metadata": {},
   "source": [
    "L'Afrique est le continent avec la plus grande proportion de personnes en état de sous-nutrition (11,9%). L'Asie se trouve sur la deuxième place avec 7,6% de population en état de sous-nutrition"
   ]
  },
  {
   "cell_type": "markdown",
   "metadata": {},
   "source": [
    "## Question N°7 L'évolution du nombre de personnes en sous-nutrition et leur proportion (2013-2018) "
   ]
  },
  {
   "cell_type": "code",
   "execution_count": 63,
   "metadata": {},
   "outputs": [
    {
     "data": {
      "text/html": [
       "<div>\n",
       "<style scoped>\n",
       "    .dataframe tbody tr th:only-of-type {\n",
       "        vertical-align: middle;\n",
       "    }\n",
       "\n",
       "    .dataframe tbody tr th {\n",
       "        vertical-align: top;\n",
       "    }\n",
       "\n",
       "    .dataframe thead th {\n",
       "        text-align: right;\n",
       "    }\n",
       "</style>\n",
       "<table border=\"1\" class=\"dataframe\">\n",
       "  <thead>\n",
       "    <tr style=\"text-align: right;\">\n",
       "      <th></th>\n",
       "      <th>Personnes en sous-nutrition</th>\n",
       "      <th>Proportion</th>\n",
       "    </tr>\n",
       "    <tr>\n",
       "      <th>Année</th>\n",
       "      <th></th>\n",
       "      <th></th>\n",
       "    </tr>\n",
       "  </thead>\n",
       "  <tbody>\n",
       "    <tr>\n",
       "      <th>2013</th>\n",
       "      <td>528100.0</td>\n",
       "      <td>0.073237</td>\n",
       "    </tr>\n",
       "    <tr>\n",
       "      <th>2014</th>\n",
       "      <td>523500.0</td>\n",
       "      <td>0.071756</td>\n",
       "    </tr>\n",
       "    <tr>\n",
       "      <th>2015</th>\n",
       "      <td>524700.0</td>\n",
       "      <td>0.071097</td>\n",
       "    </tr>\n",
       "    <tr>\n",
       "      <th>2016</th>\n",
       "      <td>528600.0</td>\n",
       "      <td>0.070817</td>\n",
       "    </tr>\n",
       "    <tr>\n",
       "      <th>2017</th>\n",
       "      <td>535700.0</td>\n",
       "      <td>0.070971</td>\n",
       "    </tr>\n",
       "    <tr>\n",
       "      <th>2018</th>\n",
       "      <td>544200.0</td>\n",
       "      <td>0.071311</td>\n",
       "    </tr>\n",
       "  </tbody>\n",
       "</table>\n",
       "</div>"
      ],
      "text/plain": [
       "       Personnes en sous-nutrition  Proportion\n",
       "Année                                         \n",
       "2013                      528100.0    0.073237\n",
       "2014                      523500.0    0.071756\n",
       "2015                      524700.0    0.071097\n",
       "2016                      528600.0    0.070817\n",
       "2017                      535700.0    0.070971\n",
       "2018                      544200.0    0.071311"
      ]
     },
     "execution_count": 63,
     "metadata": {},
     "output_type": "execute_result"
    }
   ],
   "source": [
    "sous_nutr_annee=pd.merge(sous_nutrition, population, how='right', on=['Zone', 'Année'])\n",
    "sous_nutr_annee.rename(columns={'Valeur_x': 'Personnes en sous-nutrition', 'Valeur_y': 'Population'}, inplace=True)\n",
    "sous_nutr_annee.fillna(0, inplace=True)\n",
    "sous_nutr_group_annee=sous_nutr_annee.groupby('Année').agg({'Personnes en sous-nutrition': np.sum, 'Population': np.sum})\n",
    "sous_nutr_group_annee['Proportion']=sous_nutr_group_annee['Personnes en sous-nutrition']/sous_nutr_group_annee['Population']\n",
    "sous_nutr_group_annee.drop(columns='Population', inplace=True)\n",
    "sous_nutr_group_annee"
   ]
  },
  {
   "cell_type": "code",
   "execution_count": 64,
   "metadata": {},
   "outputs": [
    {
     "data": {
      "image/png": "[encoded data removed]",
      "text/plain": [
       "<Figure size 432x288 with 1 Axes>"
      ]
     },
     "metadata": {},
     "output_type": "display_data"
    }
   ],
   "source": [
    "fig, ax=plt.subplots()\n",
    "ax.plot(sous_nutr_group_annee['Personnes en sous-nutrition'], color = \"#014263ff\")\n",
    "scale_y = 1e3\n",
    "ticks_y = ticker.FuncFormatter(lambda x, pos: '{0:g}'.format(x/scale_y))\n",
    "ax.yaxis.set_major_formatter(ticks_y)\n",
    "ax.set_ylabel('millions d’habitants')\n",
    "plt.title('Evolution du nombre de personnes en état de sous-nutrition (2013-2018)')\n",
    "#plt.savefig('evol_nomb.png', transparent=True, bbox_inches='tight')\n",
    "plt.show()"
   ]
  },
  {
   "cell_type": "code",
   "execution_count": 65,
   "metadata": {},
   "outputs": [
    {
     "data": {
      "image/png": "[encoded data removed]",
      "text/plain": [
       "<Figure size 432x288 with 1 Axes>"
      ]
     },
     "metadata": {},
     "output_type": "display_data"
    }
   ],
   "source": [
    "fig, ax=plt.subplots()\n",
    "ax.plot(sous_nutr_group_annee['Proportion'], color = \"#014263ff\")\n",
    "ax.yaxis.set_major_formatter(ticker.PercentFormatter(1.0, decimals=2))\n",
    "plt.title('Evolution du proportion de personnes en état de sous-nutrition (2013-2018)')\n",
    "#plt.savefig('evol_prop.png', transparent=True, bbox_inches='tight')\n",
    "plt.show()"
   ]
  },
  {
   "cell_type": "markdown",
   "metadata": {},
   "source": [
    "Question N°8 : L'évolution du nombre de personnes en sous-nutrition et leur proportion par continent (2013-2018)"
   ]
  },
  {
   "cell_type": "code",
   "execution_count": 66,
   "metadata": {},
   "outputs": [
    {
     "data": {
      "text/html": [
       "<div>\n",
       "<style scoped>\n",
       "    .dataframe tbody tr th:only-of-type {\n",
       "        vertical-align: middle;\n",
       "    }\n",
       "\n",
       "    .dataframe tbody tr th {\n",
       "        vertical-align: top;\n",
       "    }\n",
       "\n",
       "    .dataframe thead th {\n",
       "        text-align: right;\n",
       "    }\n",
       "</style>\n",
       "<table border=\"1\" class=\"dataframe\">\n",
       "  <thead>\n",
       "    <tr style=\"text-align: right;\">\n",
       "      <th>Continent</th>\n",
       "      <th>Afrique</th>\n",
       "      <th>Amériques</th>\n",
       "      <th>Asie</th>\n",
       "      <th>Europe</th>\n",
       "      <th>Océanie</th>\n",
       "    </tr>\n",
       "    <tr>\n",
       "      <th>Année</th>\n",
       "      <th></th>\n",
       "      <th></th>\n",
       "      <th></th>\n",
       "      <th></th>\n",
       "      <th></th>\n",
       "    </tr>\n",
       "  </thead>\n",
       "  <tbody>\n",
       "    <tr>\n",
       "      <th>2013</th>\n",
       "      <td>134900.0</td>\n",
       "      <td>31700.0</td>\n",
       "      <td>360600.0</td>\n",
       "      <td>900.0</td>\n",
       "      <td>0.0</td>\n",
       "    </tr>\n",
       "    <tr>\n",
       "      <th>2014</th>\n",
       "      <td>136100.0</td>\n",
       "      <td>31200.0</td>\n",
       "      <td>355200.0</td>\n",
       "      <td>1000.0</td>\n",
       "      <td>0.0</td>\n",
       "    </tr>\n",
       "    <tr>\n",
       "      <th>2015</th>\n",
       "      <td>138600.0</td>\n",
       "      <td>34300.0</td>\n",
       "      <td>349500.0</td>\n",
       "      <td>2300.0</td>\n",
       "      <td>0.0</td>\n",
       "    </tr>\n",
       "    <tr>\n",
       "      <th>2016</th>\n",
       "      <td>144700.0</td>\n",
       "      <td>37100.0</td>\n",
       "      <td>345700.0</td>\n",
       "      <td>1100.0</td>\n",
       "      <td>0.0</td>\n",
       "    </tr>\n",
       "    <tr>\n",
       "      <th>2017</th>\n",
       "      <td>148600.0</td>\n",
       "      <td>39600.0</td>\n",
       "      <td>345000.0</td>\n",
       "      <td>2500.0</td>\n",
       "      <td>0.0</td>\n",
       "    </tr>\n",
       "    <tr>\n",
       "      <th>2018</th>\n",
       "      <td>153700.0</td>\n",
       "      <td>41900.0</td>\n",
       "      <td>346000.0</td>\n",
       "      <td>2600.0</td>\n",
       "      <td>0.0</td>\n",
       "    </tr>\n",
       "  </tbody>\n",
       "</table>\n",
       "</div>"
      ],
      "text/plain": [
       "Continent   Afrique  Amériques      Asie  Europe  Océanie\n",
       "Année                                                    \n",
       "2013       134900.0    31700.0  360600.0   900.0      0.0\n",
       "2014       136100.0    31200.0  355200.0  1000.0      0.0\n",
       "2015       138600.0    34300.0  349500.0  2300.0      0.0\n",
       "2016       144700.0    37100.0  345700.0  1100.0      0.0\n",
       "2017       148600.0    39600.0  345000.0  2500.0      0.0\n",
       "2018       153700.0    41900.0  346000.0  2600.0      0.0"
      ]
     },
     "execution_count": 66,
     "metadata": {},
     "output_type": "execute_result"
    }
   ],
   "source": [
    "sous_nutr_annee_cont=pd.merge(sous_nutr_annee, continent, how='left', on='Zone')\n",
    "pivot_sous_nutr_annee_cont=sous_nutr_annee_cont.pivot_table('Personnes en sous-nutrition', index='Année', columns='Continent', aggfunc='sum')\n",
    "pivot_sous_nutr_annee_cont"
   ]
  },
  {
   "cell_type": "code",
   "execution_count": 67,
   "metadata": {},
   "outputs": [
    {
     "data": {
      "image/png": "[encoded data removed]",
      "text/plain": [
       "<Figure size 432x288 with 1 Axes>"
      ]
     },
     "metadata": {},
     "output_type": "display_data"
    }
   ],
   "source": [
    "fig, ax=plt.subplots()\n",
    "ax.plot(pivot_sous_nutr_annee_cont)\n",
    "plt.title('Evolution du nombre de personnes en état de sous-nutrition par continent(2013-2018)')\n",
    "scale_y = 1e3\n",
    "ticks_y = ticker.FuncFormatter(lambda x, pos: '{0:g}'.format(x/scale_y))\n",
    "ax.yaxis.set_major_formatter(ticks_y)\n",
    "ax.set_ylabel('millions d’habitants')\n",
    "plt.legend(['Afrique', 'Amériques', 'Asie', 'Europe', 'Océanie'], bbox_to_anchor =(1, 1))\n",
    "plt.show()"
   ]
  },
  {
   "cell_type": "code",
   "execution_count": 68,
   "metadata": {},
   "outputs": [
    {
     "data": {
      "text/html": [
       "<div>\n",
       "<style scoped>\n",
       "    .dataframe tbody tr th:only-of-type {\n",
       "        vertical-align: middle;\n",
       "    }\n",
       "\n",
       "    .dataframe tbody tr th {\n",
       "        vertical-align: top;\n",
       "    }\n",
       "\n",
       "    .dataframe thead th {\n",
       "        text-align: right;\n",
       "    }\n",
       "</style>\n",
       "<table border=\"1\" class=\"dataframe\">\n",
       "  <thead>\n",
       "    <tr style=\"text-align: right;\">\n",
       "      <th>Continent</th>\n",
       "      <th>Afrique</th>\n",
       "      <th>Amériques</th>\n",
       "      <th>Asie</th>\n",
       "      <th>Europe</th>\n",
       "      <th>Océanie</th>\n",
       "    </tr>\n",
       "    <tr>\n",
       "      <th>Année</th>\n",
       "      <th></th>\n",
       "      <th></th>\n",
       "      <th></th>\n",
       "      <th></th>\n",
       "      <th></th>\n",
       "    </tr>\n",
       "  </thead>\n",
       "  <tbody>\n",
       "    <tr>\n",
       "      <th>2013</th>\n",
       "      <td>0.120120</td>\n",
       "      <td>0.032909</td>\n",
       "      <td>0.082986</td>\n",
       "      <td>0.001215</td>\n",
       "      <td>0.0</td>\n",
       "    </tr>\n",
       "    <tr>\n",
       "      <th>2014</th>\n",
       "      <td>0.118098</td>\n",
       "      <td>0.032087</td>\n",
       "      <td>0.080917</td>\n",
       "      <td>0.001348</td>\n",
       "      <td>0.0</td>\n",
       "    </tr>\n",
       "    <tr>\n",
       "      <th>2015</th>\n",
       "      <td>0.117215</td>\n",
       "      <td>0.034955</td>\n",
       "      <td>0.078832</td>\n",
       "      <td>0.003095</td>\n",
       "      <td>0.0</td>\n",
       "    </tr>\n",
       "    <tr>\n",
       "      <th>2016</th>\n",
       "      <td>0.119287</td>\n",
       "      <td>0.037476</td>\n",
       "      <td>0.077224</td>\n",
       "      <td>0.001478</td>\n",
       "      <td>0.0</td>\n",
       "    </tr>\n",
       "    <tr>\n",
       "      <th>2017</th>\n",
       "      <td>0.119432</td>\n",
       "      <td>0.039660</td>\n",
       "      <td>0.076344</td>\n",
       "      <td>0.003354</td>\n",
       "      <td>0.0</td>\n",
       "    </tr>\n",
       "    <tr>\n",
       "      <th>2018</th>\n",
       "      <td>0.120462</td>\n",
       "      <td>0.041616</td>\n",
       "      <td>0.075866</td>\n",
       "      <td>0.003483</td>\n",
       "      <td>0.0</td>\n",
       "    </tr>\n",
       "  </tbody>\n",
       "</table>\n",
       "</div>"
      ],
      "text/plain": [
       "Continent   Afrique  Amériques      Asie    Europe  Océanie\n",
       "Année                                                      \n",
       "2013       0.120120   0.032909  0.082986  0.001215      0.0\n",
       "2014       0.118098   0.032087  0.080917  0.001348      0.0\n",
       "2015       0.117215   0.034955  0.078832  0.003095      0.0\n",
       "2016       0.119287   0.037476  0.077224  0.001478      0.0\n",
       "2017       0.119432   0.039660  0.076344  0.003354      0.0\n",
       "2018       0.120462   0.041616  0.075866  0.003483      0.0"
      ]
     },
     "execution_count": 68,
     "metadata": {},
     "output_type": "execute_result"
    }
   ],
   "source": [
    "pivot_sous_nutr_prop_cont1=sous_nutr_annee_cont.pivot_table('Population',\n",
    "                                                            index='Année',\n",
    "                                                            columns='Continent',\n",
    "                                                            aggfunc='sum')\n",
    "pivot_sous_nutr_prop_cont2=sous_nutr_annee_cont.pivot_table('Personnes en sous-nutrition',\n",
    "                                                            index='Année',\n",
    "                                                            columns='Continent',\n",
    "                                                            aggfunc='sum')\n",
    "pivot_sous_nutr_prop_cont3=pivot_sous_nutr_prop_cont2/pivot_sous_nutr_prop_cont1\n",
    "pivot_sous_nutr_prop_cont3"
   ]
  },
  {
   "cell_type": "code",
   "execution_count": 69,
   "metadata": {},
   "outputs": [
    {
     "data": {
      "image/png": "[encoded data removed]",
      "text/plain": [
       "<Figure size 432x288 with 1 Axes>"
      ]
     },
     "metadata": {},
     "output_type": "display_data"
    }
   ],
   "source": [
    "fig, ax=plt.subplots()\n",
    "ax.plot(pivot_sous_nutr_prop_cont3)\n",
    "ax.yaxis.set_major_formatter(ticker.PercentFormatter(1.0, decimals=0))\n",
    "plt.title('Evolution de la proportion du nombre de personnes en état de sous-nutrition par continent(2013-2018)')\n",
    "plt.legend(['Afrique', 'Amériques', 'Asie', 'Europe', 'Océanie'], bbox_to_anchor =(1, 1))\n",
    "plt.show()"
   ]
  }
 ],
 "metadata": {
  "kernelspec": {
   "display_name": "Python 3",
   "language": "python",
   "name": "python3"
  },
  "language_info": {
   "codemirror_mode": {
    "name": "ipython",
    "version": 3
   },
   "file_extension": ".py",
   "mimetype": "text/x-python",
   "name": "python",
   "nbconvert_exporter": "python",
   "pygments_lexer": "ipython3",
   "version": "3.8.5"
  }
 },
 "nbformat": 4,
 "nbformat_minor": 4
}
